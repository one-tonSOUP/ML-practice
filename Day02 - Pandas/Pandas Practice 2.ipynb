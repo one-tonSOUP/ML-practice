{
 "cells": [
  {
   "cell_type": "code",
   "execution_count": null,
   "id": "9a6c4af4-1c38-48f8-b4fa-c73fd670b122",
   "metadata": {},
   "outputs": [],
   "source": []
  }
 ],
 "metadata": {
  "kernelspec": {
   "display_name": "",
   "name": ""
  },
  "language_info": {
   "name": ""
  }
 },
 "nbformat": 4,
 "nbformat_minor": 5
}
