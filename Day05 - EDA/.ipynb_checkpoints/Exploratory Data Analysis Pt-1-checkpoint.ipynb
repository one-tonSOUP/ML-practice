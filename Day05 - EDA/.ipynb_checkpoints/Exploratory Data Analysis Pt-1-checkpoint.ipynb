{
 "cells": [
  {
   "cell_type": "markdown",
   "id": "ed034f53-482d-4497-91ca-b17aaec220f6",
   "metadata": {},
   "source": [
    "# **Exploratory Data Analysis** - *Food & Calories*"
   ]
  }
 ],
 "metadata": {
  "kernelspec": {
   "display_name": "Python 3 (ipykernel)",
   "language": "python",
   "name": "python3"
  },
  "language_info": {
   "codemirror_mode": {
    "name": "ipython",
    "version": 3
   },
   "file_extension": ".py",
   "mimetype": "text/x-python",
   "name": "python",
   "nbconvert_exporter": "python",
   "pygments_lexer": "ipython3",
   "version": "3.12.7"
  }
 },
 "nbformat": 4,
 "nbformat_minor": 5
}
