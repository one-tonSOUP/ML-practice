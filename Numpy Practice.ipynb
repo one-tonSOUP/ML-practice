{
 "cells": [
  {
   "cell_type": "code",
   "execution_count": 9,
   "id": "4f835c1d-a2e0-4d19-8956-2dfd8a79c854",
   "metadata": {},
   "outputs": [],
   "source": [
    "import numpy as np"
   ]
  },
  {
   "cell_type": "code",
   "execution_count": 16,
   "id": "6f004a2a-843a-4267-aa59-b270c6b2983c",
   "metadata": {},
   "outputs": [
    {
     "data": {
      "text/plain": [
       "array([0, 1, 2, 3, 4, 5, 6, 7, 8, 9])"
      ]
     },
     "execution_count": 16,
     "metadata": {},
     "output_type": "execute_result"
    }
   ],
   "source": [
    "ar = np.arange(0, 10, 1)\n",
    "ar"
   ]
  },
  {
   "cell_type": "code",
   "execution_count": 17,
   "id": "0c358ff7-f57f-4b87-bcc7-df2cb39d8297",
   "metadata": {},
   "outputs": [
    {
     "data": {
      "text/plain": [
       "numpy.ndarray"
      ]
     },
     "execution_count": 17,
     "metadata": {},
     "output_type": "execute_result"
    }
   ],
   "source": [
    "type(ar)"
   ]
  },
  {
   "cell_type": "markdown",
   "id": "73d5f0c6-509d-4767-a22a-4ac3cb98c008",
   "metadata": {},
   "source": [
    "# Size of a Numpy Array"
   ]
  },
  {
   "cell_type": "code",
   "execution_count": 18,
   "id": "fe178a95-c40e-4250-ba5e-eb5c204ded37",
   "metadata": {},
   "outputs": [
    {
     "name": "stdout",
     "output_type": "stream",
     "text": [
      "Length : 10\n",
      "Size   : 10\n"
     ]
    }
   ],
   "source": [
    "print(f\"Length : {len(ar)}\")\n",
    "print(f\"Size   : {ar.size}\")"
   ]
  },
  {
   "cell_type": "code",
   "execution_count": 20,
   "id": "7ddc9f83-3f1a-4bce-85e4-4f939ba1b77a",
   "metadata": {},
   "outputs": [
    {
     "data": {
      "text/plain": [
       "40"
      ]
     },
     "execution_count": 20,
     "metadata": {},
     "output_type": "execute_result"
    }
   ],
   "source": [
    "ar.size*ar.itemsize"
   ]
  },
  {
   "cell_type": "code",
   "execution_count": 21,
   "id": "7a503bfd-03e1-4fd5-92c4-37c8956dd1cf",
   "metadata": {},
   "outputs": [
    {
     "data": {
      "text/plain": [
       "40"
      ]
     },
     "execution_count": 21,
     "metadata": {},
     "output_type": "execute_result"
    }
   ],
   "source": [
    "ar.nbytes"
   ]
  },
  {
   "cell_type": "code",
   "execution_count": 24,
   "id": "65669385-4676-4077-a266-d0bc1b4264ad",
   "metadata": {},
   "outputs": [
    {
     "data": {
      "text/plain": [
       "array([[1, 2, 3, 4],\n",
       "       [5, 6, 7, 8]])"
      ]
     },
     "execution_count": 24,
     "metadata": {},
     "output_type": "execute_result"
    }
   ],
   "source": [
    "ar_2d = np.array([[1, 2, 3, 4],[5, 6, 7, 8]])\n",
    "ar_2d"
   ]
  },
  {
   "cell_type": "code",
   "execution_count": 27,
   "id": "77f3e7b5-7336-4822-9595-aacd0d9cfc46",
   "metadata": {},
   "outputs": [
    {
     "data": {
      "text/plain": [
       "2"
      ]
     },
     "execution_count": 27,
     "metadata": {},
     "output_type": "execute_result"
    }
   ],
   "source": [
    "ar_2d.ndim"
   ]
  },
  {
   "cell_type": "code",
   "execution_count": 28,
   "id": "be6aaa2c-af59-48be-a662-6dc3a19db417",
   "metadata": {},
   "outputs": [
    {
     "data": {
      "text/plain": [
       "8"
      ]
     },
     "execution_count": 28,
     "metadata": {},
     "output_type": "execute_result"
    }
   ],
   "source": [
    "ar_2d.size"
   ]
  },
  {
   "cell_type": "markdown",
   "id": "e7d89bc2-26f3-4139-ac9b-ca595984b22d",
   "metadata": {},
   "source": [
    "# Shape & Reshape an Array"
   ]
  },
  {
   "cell_type": "code",
   "execution_count": 30,
   "id": "85a7ddc4-f7ec-421e-a446-43560e7e8645",
   "metadata": {},
   "outputs": [
    {
     "data": {
      "text/plain": [
       "array([0.67895999, 0.8801882 , 0.5619744 , 0.77377311, 0.72769127,\n",
       "       0.28833744, 0.02584603, 0.51628832, 0.06847167, 0.76279085])"
      ]
     },
     "execution_count": 30,
     "metadata": {},
     "output_type": "execute_result"
    }
   ],
   "source": [
    "n_ar = np.random.rand(10)\n",
    "n_ar"
   ]
  },
  {
   "cell_type": "code",
   "execution_count": 34,
   "id": "8e779c31-8d02-43f1-af20-8c6fb001233e",
   "metadata": {},
   "outputs": [
    {
     "name": "stdout",
     "output_type": "stream",
     "text": [
      "Shape   : (10,)\n",
      "N-Dim   : 1\n",
      "Length  : 1\n"
     ]
    }
   ],
   "source": [
    "print(f\"Shape   : {n_ar.shape}\")\n",
    "print(f\"N-Dim   : {n_ar.ndim}\")\n",
    "print(f\"Length  : {len(n_ar.shape)}\")"
   ]
  },
  {
   "cell_type": "markdown",
   "id": "6a546d1f-4346-47bd-aa8d-047f187eadbe",
   "metadata": {},
   "source": [
    "## 3-D Array"
   ]
  },
  {
   "cell_type": "code",
   "execution_count": 35,
   "id": "36676ca3-ed72-47ce-9f19-2a7445c79025",
   "metadata": {},
   "outputs": [
    {
     "data": {
      "text/plain": [
       "array([[[1, 2, 3],\n",
       "        [4, 5, 6],\n",
       "        [7, 8, 9]]])"
      ]
     },
     "execution_count": 35,
     "metadata": {},
     "output_type": "execute_result"
    }
   ],
   "source": [
    "ar_3d = np.array([[[1,2,3],[4,5,6],[7,8,9]]])\n",
    "ar_3d"
   ]
  },
  {
   "cell_type": "code",
   "execution_count": 36,
   "id": "7c4a53c8-46cc-4f95-9033-d4e8149f9186",
   "metadata": {},
   "outputs": [
    {
     "name": "stdout",
     "output_type": "stream",
     "text": [
      "Shape   : (1, 3, 3)\n",
      "N-Dim   : 3\n",
      "Length  : 3\n"
     ]
    }
   ],
   "source": [
    "print(f\"Shape   : {ar_3d.shape}\")\n",
    "print(f\"N-Dim   : {ar_3d.ndim}\")\n",
    "print(f\"Length  : {len(ar_3d.shape)}\")"
   ]
  },
  {
   "cell_type": "markdown",
   "id": "b6e57a31-3524-4bc2-a99c-032a9c865337",
   "metadata": {},
   "source": [
    "## Indexing & Slicing of an Array"
   ]
  },
  {
   "cell_type": "code",
   "execution_count": 38,
   "id": "da0f5b71-e8b5-4c7c-959f-66d4a2e17c4a",
   "metadata": {},
   "outputs": [
    {
     "data": {
      "text/plain": [
       "array([[ 1,  2,  3,  4],\n",
       "       [ 5,  6,  7,  8],\n",
       "       [ 9, 10, 11, 12]])"
      ]
     },
     "execution_count": 38,
     "metadata": {},
     "output_type": "execute_result"
    }
   ],
   "source": [
    "ar = np.array([[1,2,3,4],[5,6,7,8],[9,10,11,12]])\n",
    "ar"
   ]
  },
  {
   "cell_type": "code",
   "execution_count": 39,
   "id": "9bd0f5b5-f91f-42dd-af72-17f5876babc6",
   "metadata": {},
   "outputs": [
    {
     "name": "stdout",
     "output_type": "stream",
     "text": [
      "Shape   : (3, 4)\n",
      "N-Dim   : 2\n",
      "Length  : 2\n"
     ]
    }
   ],
   "source": [
    "print(f\"Shape   : {ar.shape}\")\n",
    "print(f\"N-Dim   : {ar.ndim}\")\n",
    "print(f\"Length  : {len(ar.shape)}\")"
   ]
  },
  {
   "cell_type": "code",
   "execution_count": 42,
   "id": "6aaf3fb1-6fff-4042-bce5-d9357e070176",
   "metadata": {},
   "outputs": [
    {
     "data": {
      "text/plain": [
       "1"
      ]
     },
     "execution_count": 42,
     "metadata": {},
     "output_type": "execute_result"
    }
   ],
   "source": [
    "ar[0][0]"
   ]
  },
  {
   "cell_type": "code",
   "execution_count": 43,
   "id": "7f4d28e0-79ce-42f8-bbc4-9d31f3084914",
   "metadata": {},
   "outputs": [
    {
     "data": {
      "text/plain": [
       "array([1, 2, 3, 4])"
      ]
     },
     "execution_count": 43,
     "metadata": {},
     "output_type": "execute_result"
    }
   ],
   "source": [
    "ar[0]"
   ]
  },
  {
   "cell_type": "code",
   "execution_count": 44,
   "id": "07c58ab8-71c7-4058-8f13-b63348b7ee7a",
   "metadata": {},
   "outputs": [
    {
     "data": {
      "text/plain": [
       "array([ 9, 10, 11, 12])"
      ]
     },
     "execution_count": 44,
     "metadata": {},
     "output_type": "execute_result"
    }
   ],
   "source": [
    "ar[-1]"
   ]
  },
  {
   "cell_type": "code",
   "execution_count": 45,
   "id": "ca06504c-391d-41ee-8fd8-1d4f1e4c4723",
   "metadata": {},
   "outputs": [
    {
     "name": "stdout",
     "output_type": "stream",
     "text": [
      "Element at index [0][0]  : 1\n",
      "Element at index [0]     : [1 2 3 4]\n",
      "Element at index [-1]    : [ 9 10 11 12]\n"
     ]
    }
   ],
   "source": [
    "print(f\"Element at index [0][0]  : {ar[0][0]}\")\n",
    "print(f\"Element at index [0]     : {ar[0]}\")\n",
    "print(f\"Element at index [-1]    : {ar[-1]}\")"
   ]
  },
  {
   "cell_type": "code",
   "execution_count": 46,
   "id": "1d755ce1-3278-4ddf-865e-2fe3c2f24ab1",
   "metadata": {},
   "outputs": [
    {
     "data": {
      "text/plain": [
       "array([[1, 2, 3, 4],\n",
       "       [5, 6, 7, 8]])"
      ]
     },
     "execution_count": 46,
     "metadata": {},
     "output_type": "execute_result"
    }
   ],
   "source": [
    "# Slicing ..\n",
    "\n",
    "ar[0:2]"
   ]
  },
  {
   "cell_type": "code",
   "execution_count": 47,
   "id": "23ac5c51-f261-4510-9350-9f8b99f482b6",
   "metadata": {},
   "outputs": [
    {
     "data": {
      "text/plain": [
       "array([[5, 6]])"
      ]
     },
     "execution_count": 47,
     "metadata": {},
     "output_type": "execute_result"
    }
   ],
   "source": [
    "ar[1:2, 0:2]"
   ]
  },
  {
   "cell_type": "code",
   "execution_count": 48,
   "id": "c56d5225-5de1-46e1-8fd3-5defb4ae1bfd",
   "metadata": {},
   "outputs": [
    {
     "data": {
      "text/plain": [
       "array([[ 1,  2,  3,  4],\n",
       "       [ 9, 10, 11, 12]])"
      ]
     },
     "execution_count": 48,
     "metadata": {},
     "output_type": "execute_result"
    }
   ],
   "source": [
    "ar[[0, -1]]"
   ]
  },
  {
   "cell_type": "code",
   "execution_count": 49,
   "id": "27c7d033-abaf-4a73-9e61-7004cddf1dce",
   "metadata": {},
   "outputs": [
    {
     "data": {
      "text/plain": [
       "array([ 4,  8, 12])"
      ]
     },
     "execution_count": 49,
     "metadata": {},
     "output_type": "execute_result"
    }
   ],
   "source": [
    "ar[0:, -1]"
   ]
  },
  {
   "cell_type": "code",
   "execution_count": 50,
   "id": "93e4860e-8ec5-43a0-9c8a-27c8566fb9e3",
   "metadata": {},
   "outputs": [
    {
     "data": {
      "text/plain": [
       "array([[ 1,  3],\n",
       "       [ 9, 11]])"
      ]
     },
     "execution_count": 50,
     "metadata": {},
     "output_type": "execute_result"
    }
   ],
   "source": [
    "ar[0:3:2, 0:-1:2]"
   ]
  },
  {
   "cell_type": "code",
   "execution_count": 51,
   "id": "7bad3ab8-ff26-4459-b62e-14c5d008beee",
   "metadata": {},
   "outputs": [
    {
     "data": {
      "text/plain": [
       "array([[ 1,  2,  3,  4],\n",
       "       [ 5,  6,  7,  8],\n",
       "       [ 9, 10, 11, 12]])"
      ]
     },
     "execution_count": 51,
     "metadata": {},
     "output_type": "execute_result"
    }
   ],
   "source": [
    "ar"
   ]
  },
  {
   "cell_type": "markdown",
   "id": "965a14e5-167e-4a42-a9af-28d3ef49e310",
   "metadata": {},
   "source": [
    "## Transpose of an Array"
   ]
  },
  {
   "cell_type": "code",
   "execution_count": 53,
   "id": "a34a4fce-bd00-46b0-b922-de2f0fc5cdcb",
   "metadata": {},
   "outputs": [
    {
     "data": {
      "text/plain": [
       "array([[10, 20, 30, 40],\n",
       "       [50, 60, 70, 80]])"
      ]
     },
     "execution_count": 53,
     "metadata": {},
     "output_type": "execute_result"
    }
   ],
   "source": [
    "ar = np.array([[10,20,30,40],[50,60,70,80]])\n",
    "ar"
   ]
  },
  {
   "cell_type": "code",
   "execution_count": 54,
   "id": "11c16405-ca4f-477f-a94a-6b044f8820dd",
   "metadata": {},
   "outputs": [
    {
     "name": "stdout",
     "output_type": "stream",
     "text": [
      "Shape   : (2, 4)\n"
     ]
    }
   ],
   "source": [
    "print(f\"Shape   : {ar.shape}\")"
   ]
  },
  {
   "cell_type": "code",
   "execution_count": 56,
   "id": "5e30f560-417e-4d0c-a5a8-bc19a5e0bfb2",
   "metadata": {},
   "outputs": [
    {
     "data": {
      "text/plain": [
       "array([[10, 50],\n",
       "       [20, 60],\n",
       "       [30, 70],\n",
       "       [40, 80]])"
      ]
     },
     "execution_count": 56,
     "metadata": {},
     "output_type": "execute_result"
    }
   ],
   "source": [
    "# Transpose ..\n",
    "\n",
    "ar.T"
   ]
  },
  {
   "cell_type": "code",
   "execution_count": 59,
   "id": "be3ab6ca-4f6f-4a65-bc00-085880e7e9a4",
   "metadata": {},
   "outputs": [
    {
     "name": "stdout",
     "output_type": "stream",
     "text": [
      "Shape   : (4, 2)\n"
     ]
    }
   ],
   "source": [
    "print(f\"Shape   : {ar.T.shape}\")"
   ]
  },
  {
   "cell_type": "markdown",
   "id": "661a0e1a-c977-455a-9d56-0925f419b2ba",
   "metadata": {},
   "source": [
    "# Mean, Median, Variance & Std Deviation"
   ]
  },
  {
   "cell_type": "code",
   "execution_count": 60,
   "id": "a1f6dfb5-d812-42ca-9912-1196b8812e76",
   "metadata": {},
   "outputs": [],
   "source": [
    "pass"
   ]
  }
 ],
 "metadata": {
  "kernelspec": {
   "display_name": "Python 3 (ipykernel)",
   "language": "python",
   "name": "python3"
  },
  "language_info": {
   "codemirror_mode": {
    "name": "ipython",
    "version": 3
   },
   "file_extension": ".py",
   "mimetype": "text/x-python",
   "name": "python",
   "nbconvert_exporter": "python",
   "pygments_lexer": "ipython3",
   "version": "3.12.7"
  }
 },
 "nbformat": 4,
 "nbformat_minor": 5
}
