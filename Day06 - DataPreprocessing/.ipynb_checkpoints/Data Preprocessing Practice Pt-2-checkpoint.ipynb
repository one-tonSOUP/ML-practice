{
 "cells": [
  {
   "cell_type": "markdown",
   "id": "2eb3c2e0-b6c6-41e0-a415-7d26a19f506c",
   "metadata": {},
   "source": [
    "# Data Preprocessing Pt-2\n",
    " - Feature Selection\n",
    " - Data Splitting\n",
    " - MinMaxScalar\n",
    " - OneHotEncoder"
   ]
  },
  {
   "cell_type": "code",
   "execution_count": null,
   "id": "e13f16ae-bfed-44f8-8f73-b0bde1809b99",
   "metadata": {},
   "outputs": [],
   "source": []
  },
  {
   "cell_type": "code",
   "execution_count": null,
   "id": "8cc4c4ff-6399-42fb-91a2-16a837c2ae99",
   "metadata": {},
   "outputs": [],
   "source": []
  },
  {
   "cell_type": "code",
   "execution_count": null,
   "id": "b435469b-ce2e-4350-bcc0-9cf998594a67",
   "metadata": {},
   "outputs": [],
   "source": []
  },
  {
   "cell_type": "code",
   "execution_count": null,
   "id": "73fa9847-b3ae-4f67-97b7-d1cf0739a6aa",
   "metadata": {},
   "outputs": [],
   "source": []
  },
  {
   "cell_type": "markdown",
   "id": "df051af3-9295-4d61-9ace-48c9a5d0e41f",
   "metadata": {},
   "source": []
  },
  {
   "cell_type": "code",
   "execution_count": null,
   "id": "5c3d91a1-8243-49a3-8e21-5db1b43fd446",
   "metadata": {},
   "outputs": [],
   "source": []
  }
 ],
 "metadata": {
  "kernelspec": {
   "display_name": "Python 3 (ipykernel)",
   "language": "python",
   "name": "python3"
  },
  "language_info": {
   "codemirror_mode": {
    "name": "ipython",
    "version": 3
   },
   "file_extension": ".py",
   "mimetype": "text/x-python",
   "name": "python",
   "nbconvert_exporter": "python",
   "pygments_lexer": "ipython3",
   "version": "3.12.7"
  }
 },
 "nbformat": 4,
 "nbformat_minor": 5
}
