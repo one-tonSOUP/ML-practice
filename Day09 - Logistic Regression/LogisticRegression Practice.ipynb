{
 "cells": [
  {
   "cell_type": "markdown",
   "id": "0558c561-1ad0-4aeb-9fb3-7caf5b5974f9",
   "metadata": {},
   "source": [
    "# Logistic Regression - Implementation"
   ]
  },
  {
   "cell_type": "code",
   "execution_count": 70,
   "id": "3a198772-c3cc-42cc-9313-f00173131202",
   "metadata": {},
   "outputs": [],
   "source": [
    "import numpy as np\n",
    "import pandas as pd\n",
    "import matplotlib.pyplot as plt\n",
    "from sklearn.model_selection import train_test_split"
   ]
  },
  {
   "cell_type": "code",
   "execution_count": 2,
   "id": "5798ef2a-8cb9-4646-aa8f-740019a631b6",
   "metadata": {},
   "outputs": [
    {
     "data": {
      "text/plain": [
       "['.ipynb_checkpoints', 'hr_job.csv', 'LogisticRegression Practice.ipynb']"
      ]
     },
     "execution_count": 2,
     "metadata": {},
     "output_type": "execute_result"
    }
   ],
   "source": [
    "import os\n",
    "os.listdir(os.getcwd())"
   ]
  },
  {
   "cell_type": "code",
   "execution_count": 80,
   "id": "18c4fb34-6708-416b-8784-690bb3b18230",
   "metadata": {},
   "outputs": [],
   "source": [
    "# ANSI Escape Codes for BOLD and Resetting formatting - to be used in print() method ..\n",
    "\n",
    "B = \"\\033[1m\"\n",
    "R = \"\\033[0m\""
   ]
  },
  {
   "cell_type": "code",
   "execution_count": 33,
   "id": "c3c3c0ca-d432-49df-bb0c-33c06ab823a7",
   "metadata": {},
   "outputs": [],
   "source": [
    "data = pd.read_csv(\"hr_job.csv\")"
   ]
  },
  {
   "cell_type": "code",
   "execution_count": 34,
   "id": "c48792fe-997b-4e91-8874-a3428b35fa75",
   "metadata": {},
   "outputs": [
    {
     "name": "stdout",
     "output_type": "stream",
     "text": [
      "<class 'pandas.core.frame.DataFrame'>\n",
      "RangeIndex: 17257 entries, 0 to 17256\n",
      "Data columns (total 14 columns):\n",
      " #   Column                  Non-Null Count  Dtype  \n",
      "---  ------                  --------------  -----  \n",
      " 0   ID                      17257 non-null  int64  \n",
      " 1   city                    17257 non-null  int64  \n",
      " 2   city_development_index  17257 non-null  float64\n",
      " 3   gender                  17257 non-null  int64  \n",
      " 4   relevent_experience     17257 non-null  int64  \n",
      " 5   enrolled_university     17006 non-null  float64\n",
      " 6   education_level         16962 non-null  float64\n",
      " 7   major_discipline        15441 non-null  float64\n",
      " 8   experience              17161 non-null  float64\n",
      " 9   company_size            9603 non-null   float64\n",
      " 10  company_type            9982 non-null   float64\n",
      " 11  last_new_job            16928 non-null  float64\n",
      " 12  training_hours          17257 non-null  float64\n",
      " 13  target                  17257 non-null  int64  \n",
      "dtypes: float64(9), int64(5)\n",
      "memory usage: 1.8 MB\n"
     ]
    }
   ],
   "source": [
    "data.info()"
   ]
  },
  {
   "cell_type": "code",
   "execution_count": 35,
   "id": "2c125232-9f06-419f-b657-fa7c2f97bac2",
   "metadata": {},
   "outputs": [
    {
     "data": {
      "text/plain": [
       "(17257, 14)"
      ]
     },
     "execution_count": 35,
     "metadata": {},
     "output_type": "execute_result"
    }
   ],
   "source": [
    "data.shape"
   ]
  },
  {
   "cell_type": "code",
   "execution_count": 36,
   "id": "ab642b38-9700-40fe-a3b6-88322682956e",
   "metadata": {},
   "outputs": [
    {
     "data": {
      "text/html": [
       "<div>\n",
       "<style scoped>\n",
       "    .dataframe tbody tr th:only-of-type {\n",
       "        vertical-align: middle;\n",
       "    }\n",
       "\n",
       "    .dataframe tbody tr th {\n",
       "        vertical-align: top;\n",
       "    }\n",
       "\n",
       "    .dataframe thead th {\n",
       "        text-align: right;\n",
       "    }\n",
       "</style>\n",
       "<table border=\"1\" class=\"dataframe\">\n",
       "  <thead>\n",
       "    <tr style=\"text-align: right;\">\n",
       "      <th></th>\n",
       "      <th>count</th>\n",
       "      <th>mean</th>\n",
       "      <th>std</th>\n",
       "      <th>min</th>\n",
       "      <th>25%</th>\n",
       "      <th>50%</th>\n",
       "      <th>75%</th>\n",
       "      <th>max</th>\n",
       "    </tr>\n",
       "  </thead>\n",
       "  <tbody>\n",
       "    <tr>\n",
       "      <th>ID</th>\n",
       "      <td>17257.0</td>\n",
       "      <td>8629.000000</td>\n",
       "      <td>4981.811133</td>\n",
       "      <td>1.000</td>\n",
       "      <td>4315.00</td>\n",
       "      <td>8629.000000</td>\n",
       "      <td>12943.000000</td>\n",
       "      <td>17257.000</td>\n",
       "    </tr>\n",
       "    <tr>\n",
       "      <th>city</th>\n",
       "      <td>17257.0</td>\n",
       "      <td>72.991887</td>\n",
       "      <td>46.128232</td>\n",
       "      <td>1.000</td>\n",
       "      <td>21.00</td>\n",
       "      <td>83.000000</td>\n",
       "      <td>103.000000</td>\n",
       "      <td>180.000</td>\n",
       "    </tr>\n",
       "    <tr>\n",
       "      <th>city_development_index</th>\n",
       "      <td>17257.0</td>\n",
       "      <td>0.805103</td>\n",
       "      <td>0.128002</td>\n",
       "      <td>0.448</td>\n",
       "      <td>0.68</td>\n",
       "      <td>0.874349</td>\n",
       "      <td>0.920000</td>\n",
       "      <td>0.949</td>\n",
       "    </tr>\n",
       "    <tr>\n",
       "      <th>gender</th>\n",
       "      <td>17257.0</td>\n",
       "      <td>0.828417</td>\n",
       "      <td>0.488328</td>\n",
       "      <td>0.000</td>\n",
       "      <td>1.00</td>\n",
       "      <td>1.000000</td>\n",
       "      <td>1.000000</td>\n",
       "      <td>2.000</td>\n",
       "    </tr>\n",
       "    <tr>\n",
       "      <th>relevent_experience</th>\n",
       "      <td>17257.0</td>\n",
       "      <td>0.710726</td>\n",
       "      <td>0.453438</td>\n",
       "      <td>0.000</td>\n",
       "      <td>0.00</td>\n",
       "      <td>1.000000</td>\n",
       "      <td>1.000000</td>\n",
       "      <td>1.000</td>\n",
       "    </tr>\n",
       "    <tr>\n",
       "      <th>enrolled_university</th>\n",
       "      <td>17006.0</td>\n",
       "      <td>0.476891</td>\n",
       "      <td>0.825014</td>\n",
       "      <td>0.000</td>\n",
       "      <td>0.00</td>\n",
       "      <td>0.000000</td>\n",
       "      <td>1.000000</td>\n",
       "      <td>2.000</td>\n",
       "    </tr>\n",
       "    <tr>\n",
       "      <th>education_level</th>\n",
       "      <td>16962.0</td>\n",
       "      <td>3.108183</td>\n",
       "      <td>0.582475</td>\n",
       "      <td>1.000</td>\n",
       "      <td>3.00</td>\n",
       "      <td>3.000000</td>\n",
       "      <td>3.000000</td>\n",
       "      <td>5.000</td>\n",
       "    </tr>\n",
       "    <tr>\n",
       "      <th>major_discipline</th>\n",
       "      <td>15441.0</td>\n",
       "      <td>3.888543</td>\n",
       "      <td>0.581960</td>\n",
       "      <td>0.000</td>\n",
       "      <td>4.00</td>\n",
       "      <td>4.000000</td>\n",
       "      <td>4.000000</td>\n",
       "      <td>5.000</td>\n",
       "    </tr>\n",
       "    <tr>\n",
       "      <th>experience</th>\n",
       "      <td>17161.0</td>\n",
       "      <td>10.532370</td>\n",
       "      <td>8.291935</td>\n",
       "      <td>0.000</td>\n",
       "      <td>4.00</td>\n",
       "      <td>8.000000</td>\n",
       "      <td>15.000000</td>\n",
       "      <td>25.000</td>\n",
       "    </tr>\n",
       "    <tr>\n",
       "      <th>company_size</th>\n",
       "      <td>9603.0</td>\n",
       "      <td>4.259711</td>\n",
       "      <td>2.187910</td>\n",
       "      <td>1.000</td>\n",
       "      <td>3.00</td>\n",
       "      <td>4.000000</td>\n",
       "      <td>6.000000</td>\n",
       "      <td>8.000</td>\n",
       "    </tr>\n",
       "    <tr>\n",
       "      <th>company_type</th>\n",
       "      <td>9982.0</td>\n",
       "      <td>3.775496</td>\n",
       "      <td>0.848857</td>\n",
       "      <td>0.000</td>\n",
       "      <td>4.00</td>\n",
       "      <td>4.000000</td>\n",
       "      <td>4.000000</td>\n",
       "      <td>5.000</td>\n",
       "    </tr>\n",
       "    <tr>\n",
       "      <th>last_new_job</th>\n",
       "      <td>16928.0</td>\n",
       "      <td>1.794542</td>\n",
       "      <td>1.582556</td>\n",
       "      <td>0.000</td>\n",
       "      <td>1.00</td>\n",
       "      <td>1.000000</td>\n",
       "      <td>2.000000</td>\n",
       "      <td>5.000</td>\n",
       "    </tr>\n",
       "    <tr>\n",
       "      <th>training_hours</th>\n",
       "      <td>17257.0</td>\n",
       "      <td>63.974366</td>\n",
       "      <td>57.102777</td>\n",
       "      <td>1.000</td>\n",
       "      <td>24.00</td>\n",
       "      <td>46.669853</td>\n",
       "      <td>85.425166</td>\n",
       "      <td>336.000</td>\n",
       "    </tr>\n",
       "    <tr>\n",
       "      <th>target</th>\n",
       "      <td>17257.0</td>\n",
       "      <td>0.499971</td>\n",
       "      <td>0.500014</td>\n",
       "      <td>0.000</td>\n",
       "      <td>0.00</td>\n",
       "      <td>0.000000</td>\n",
       "      <td>1.000000</td>\n",
       "      <td>1.000</td>\n",
       "    </tr>\n",
       "  </tbody>\n",
       "</table>\n",
       "</div>"
      ],
      "text/plain": [
       "                          count         mean          std    min      25%  \\\n",
       "ID                      17257.0  8629.000000  4981.811133  1.000  4315.00   \n",
       "city                    17257.0    72.991887    46.128232  1.000    21.00   \n",
       "city_development_index  17257.0     0.805103     0.128002  0.448     0.68   \n",
       "gender                  17257.0     0.828417     0.488328  0.000     1.00   \n",
       "relevent_experience     17257.0     0.710726     0.453438  0.000     0.00   \n",
       "enrolled_university     17006.0     0.476891     0.825014  0.000     0.00   \n",
       "education_level         16962.0     3.108183     0.582475  1.000     3.00   \n",
       "major_discipline        15441.0     3.888543     0.581960  0.000     4.00   \n",
       "experience              17161.0    10.532370     8.291935  0.000     4.00   \n",
       "company_size             9603.0     4.259711     2.187910  1.000     3.00   \n",
       "company_type             9982.0     3.775496     0.848857  0.000     4.00   \n",
       "last_new_job            16928.0     1.794542     1.582556  0.000     1.00   \n",
       "training_hours          17257.0    63.974366    57.102777  1.000    24.00   \n",
       "target                  17257.0     0.499971     0.500014  0.000     0.00   \n",
       "\n",
       "                                50%           75%        max  \n",
       "ID                      8629.000000  12943.000000  17257.000  \n",
       "city                      83.000000    103.000000    180.000  \n",
       "city_development_index     0.874349      0.920000      0.949  \n",
       "gender                     1.000000      1.000000      2.000  \n",
       "relevent_experience        1.000000      1.000000      1.000  \n",
       "enrolled_university        0.000000      1.000000      2.000  \n",
       "education_level            3.000000      3.000000      5.000  \n",
       "major_discipline           4.000000      4.000000      5.000  \n",
       "experience                 8.000000     15.000000     25.000  \n",
       "company_size               4.000000      6.000000      8.000  \n",
       "company_type               4.000000      4.000000      5.000  \n",
       "last_new_job               1.000000      2.000000      5.000  \n",
       "training_hours            46.669853     85.425166    336.000  \n",
       "target                     0.000000      1.000000      1.000  "
      ]
     },
     "execution_count": 36,
     "metadata": {},
     "output_type": "execute_result"
    }
   ],
   "source": [
    "data.describe().T"
   ]
  },
  {
   "cell_type": "code",
   "execution_count": 37,
   "id": "6b5cce92-b576-48b4-a903-4f59a5a891dd",
   "metadata": {},
   "outputs": [],
   "source": [
    "class StandardScalar():\n",
    "    def fit_transform(self, x):\n",
    "        mean = np.mean(x, axis = 0)\n",
    "        std_dev = np.std(x)\n",
    "        return (x - mean) / std_dev"
   ]
  },
  {
   "cell_type": "code",
   "execution_count": 38,
   "id": "79b12189-81e3-4edd-af02-6f99380f1e8e",
   "metadata": {},
   "outputs": [
    {
     "data": {
      "text/plain": [
       "ID                           0\n",
       "city                         0\n",
       "city_development_index       0\n",
       "gender                       0\n",
       "relevent_experience          0\n",
       "enrolled_university        251\n",
       "education_level            295\n",
       "major_discipline          1816\n",
       "experience                  96\n",
       "company_size              7654\n",
       "company_type              7275\n",
       "last_new_job               329\n",
       "training_hours               0\n",
       "target                       0\n",
       "dtype: int64"
      ]
     },
     "execution_count": 38,
     "metadata": {},
     "output_type": "execute_result"
    }
   ],
   "source": [
    "data.isnull().sum()"
   ]
  },
  {
   "cell_type": "code",
   "execution_count": 39,
   "id": "0ef0a427-9338-4688-b54c-a9b2eca379c0",
   "metadata": {},
   "outputs": [],
   "source": [
    "data.fillna(method = 'bfill', inplace = True)"
   ]
  },
  {
   "cell_type": "code",
   "execution_count": 40,
   "id": "2eb1b19a-6e26-44a9-bb5c-a244046d59a6",
   "metadata": {},
   "outputs": [
    {
     "data": {
      "text/plain": [
       "ID                        0\n",
       "city                      0\n",
       "city_development_index    0\n",
       "gender                    0\n",
       "relevent_experience       0\n",
       "enrolled_university       0\n",
       "education_level           0\n",
       "major_discipline          0\n",
       "experience                0\n",
       "company_size              0\n",
       "company_type              0\n",
       "last_new_job              0\n",
       "training_hours            0\n",
       "target                    0\n",
       "dtype: int64"
      ]
     },
     "execution_count": 40,
     "metadata": {},
     "output_type": "execute_result"
    }
   ],
   "source": [
    "data.isnull().sum()"
   ]
  },
  {
   "cell_type": "code",
   "execution_count": 41,
   "id": "dbeb9b89-09a8-47b2-b027-f12ce84c9c2b",
   "metadata": {},
   "outputs": [
    {
     "data": {
      "text/html": [
       "<div>\n",
       "<style scoped>\n",
       "    .dataframe tbody tr th:only-of-type {\n",
       "        vertical-align: middle;\n",
       "    }\n",
       "\n",
       "    .dataframe tbody tr th {\n",
       "        vertical-align: top;\n",
       "    }\n",
       "\n",
       "    .dataframe thead th {\n",
       "        text-align: right;\n",
       "    }\n",
       "</style>\n",
       "<table border=\"1\" class=\"dataframe\">\n",
       "  <thead>\n",
       "    <tr style=\"text-align: right;\">\n",
       "      <th></th>\n",
       "      <th>ID</th>\n",
       "      <th>city</th>\n",
       "      <th>city_development_index</th>\n",
       "      <th>gender</th>\n",
       "      <th>relevent_experience</th>\n",
       "      <th>enrolled_university</th>\n",
       "      <th>education_level</th>\n",
       "      <th>major_discipline</th>\n",
       "      <th>experience</th>\n",
       "      <th>company_size</th>\n",
       "      <th>company_type</th>\n",
       "      <th>last_new_job</th>\n",
       "      <th>training_hours</th>\n",
       "      <th>target</th>\n",
       "    </tr>\n",
       "  </thead>\n",
       "  <tbody>\n",
       "    <tr>\n",
       "      <th>0</th>\n",
       "      <td>1</td>\n",
       "      <td>21</td>\n",
       "      <td>0.624000</td>\n",
       "      <td>1</td>\n",
       "      <td>0</td>\n",
       "      <td>2.0</td>\n",
       "      <td>3.0</td>\n",
       "      <td>4.0</td>\n",
       "      <td>3.0</td>\n",
       "      <td>4.0</td>\n",
       "      <td>4.0</td>\n",
       "      <td>0.0</td>\n",
       "      <td>31.372145</td>\n",
       "      <td>1</td>\n",
       "    </tr>\n",
       "    <tr>\n",
       "      <th>1</th>\n",
       "      <td>2</td>\n",
       "      <td>21</td>\n",
       "      <td>0.616795</td>\n",
       "      <td>1</td>\n",
       "      <td>0</td>\n",
       "      <td>2.0</td>\n",
       "      <td>3.0</td>\n",
       "      <td>4.0</td>\n",
       "      <td>0.0</td>\n",
       "      <td>4.0</td>\n",
       "      <td>4.0</td>\n",
       "      <td>1.0</td>\n",
       "      <td>63.988905</td>\n",
       "      <td>1</td>\n",
       "    </tr>\n",
       "    <tr>\n",
       "      <th>2</th>\n",
       "      <td>3</td>\n",
       "      <td>73</td>\n",
       "      <td>0.754000</td>\n",
       "      <td>1</td>\n",
       "      <td>0</td>\n",
       "      <td>2.0</td>\n",
       "      <td>3.0</td>\n",
       "      <td>4.0</td>\n",
       "      <td>0.0</td>\n",
       "      <td>4.0</td>\n",
       "      <td>4.0</td>\n",
       "      <td>0.0</td>\n",
       "      <td>19.000000</td>\n",
       "      <td>1</td>\n",
       "    </tr>\n",
       "    <tr>\n",
       "      <th>3</th>\n",
       "      <td>4</td>\n",
       "      <td>57</td>\n",
       "      <td>0.866000</td>\n",
       "      <td>1</td>\n",
       "      <td>0</td>\n",
       "      <td>0.0</td>\n",
       "      <td>5.0</td>\n",
       "      <td>4.0</td>\n",
       "      <td>9.0</td>\n",
       "      <td>4.0</td>\n",
       "      <td>4.0</td>\n",
       "      <td>5.0</td>\n",
       "      <td>53.000000</td>\n",
       "      <td>0</td>\n",
       "    </tr>\n",
       "    <tr>\n",
       "      <th>4</th>\n",
       "      <td>5</td>\n",
       "      <td>21</td>\n",
       "      <td>0.624000</td>\n",
       "      <td>1</td>\n",
       "      <td>1</td>\n",
       "      <td>0.0</td>\n",
       "      <td>4.0</td>\n",
       "      <td>4.0</td>\n",
       "      <td>5.0</td>\n",
       "      <td>3.0</td>\n",
       "      <td>4.0</td>\n",
       "      <td>5.0</td>\n",
       "      <td>108.000000</td>\n",
       "      <td>1</td>\n",
       "    </tr>\n",
       "  </tbody>\n",
       "</table>\n",
       "</div>"
      ],
      "text/plain": [
       "   ID  city  city_development_index  gender  relevent_experience  \\\n",
       "0   1    21                0.624000       1                    0   \n",
       "1   2    21                0.616795       1                    0   \n",
       "2   3    73                0.754000       1                    0   \n",
       "3   4    57                0.866000       1                    0   \n",
       "4   5    21                0.624000       1                    1   \n",
       "\n",
       "   enrolled_university  education_level  major_discipline  experience  \\\n",
       "0                  2.0              3.0               4.0         3.0   \n",
       "1                  2.0              3.0               4.0         0.0   \n",
       "2                  2.0              3.0               4.0         0.0   \n",
       "3                  0.0              5.0               4.0         9.0   \n",
       "4                  0.0              4.0               4.0         5.0   \n",
       "\n",
       "   company_size  company_type  last_new_job  training_hours  target  \n",
       "0           4.0           4.0           0.0       31.372145       1  \n",
       "1           4.0           4.0           1.0       63.988905       1  \n",
       "2           4.0           4.0           0.0       19.000000       1  \n",
       "3           4.0           4.0           5.0       53.000000       0  \n",
       "4           3.0           4.0           5.0      108.000000       1  "
      ]
     },
     "execution_count": 41,
     "metadata": {},
     "output_type": "execute_result"
    }
   ],
   "source": [
    "data.head(5)"
   ]
  },
  {
   "cell_type": "code",
   "execution_count": 42,
   "id": "aabd6745-3344-42e5-be2e-b0dcdc0e3b2f",
   "metadata": {},
   "outputs": [],
   "source": [
    "data.drop('city', axis = 1, inplace = True)"
   ]
  },
  {
   "cell_type": "markdown",
   "id": "dc26c293-6418-43ca-a52f-49b877d1df03",
   "metadata": {},
   "source": [
    "### Separating `Features` & `Target`"
   ]
  },
  {
   "cell_type": "code",
   "execution_count": 68,
   "id": "24cfcfd8-a11d-469c-a6ef-cdeed8947512",
   "metadata": {},
   "outputs": [],
   "source": [
    "X = data.drop('target', axis = 1).values\n",
    "Y = data['target'].values.reshape(-1, 1)"
   ]
  },
  {
   "cell_type": "markdown",
   "id": "b72a46fa-c576-4f08-a8ef-cd17e4215a1c",
   "metadata": {},
   "source": [
    "### Feature Scaling"
   ]
  },
  {
   "cell_type": "code",
   "execution_count": 69,
   "id": "5bb04e02-35c8-4fad-8b8f-8230f573326f",
   "metadata": {},
   "outputs": [],
   "source": [
    "X_mean = np.mean(X, axis = 0)\n",
    "X_std = np.std(X, axis = 0)\n",
    "X_scaled = (X - X_mean) / X_std"
   ]
  },
  {
   "cell_type": "markdown",
   "id": "20a1f760-5b1f-4e7b-8a5c-a8d14afeb4f5",
   "metadata": {},
   "source": [
    "### Train - Test Split"
   ]
  },
  {
   "cell_type": "code",
   "execution_count": 73,
   "id": "b85107a3-c565-48ce-a162-c5b4113ddd3c",
   "metadata": {},
   "outputs": [],
   "source": [
    "x_train, x_test, y_train, y_test = train_test_split(\n",
    "                                                        X_scaled,\n",
    "                                                        Y,\n",
    "                                                        train_size = 0.75,\n",
    "                                                        random_state = 42\n",
    "                                                    )"
   ]
  },
  {
   "cell_type": "markdown",
   "id": "9eafef67-a437-4a8b-9e52-40a27866d2a6",
   "metadata": {},
   "source": [
    "### Sigmoid activation function"
   ]
  },
  {
   "cell_type": "code",
   "execution_count": 74,
   "id": "93645bad-ec2e-4ddf-8a0b-c3846307c0e6",
   "metadata": {},
   "outputs": [],
   "source": [
    "def sigmoid(z):\n",
    "    return 1 / (1 + np.exp(-z))"
   ]
  },
  {
   "cell_type": "markdown",
   "id": "2316c946-14a1-4499-8908-52c5de87098c",
   "metadata": {},
   "source": [
    "### Initialize weights"
   ]
  },
  {
   "cell_type": "code",
   "execution_count": 75,
   "id": "ff3a88b0-a9e8-4501-aafd-ab607e117639",
   "metadata": {},
   "outputs": [],
   "source": [
    "def initialize_weights(dim):\n",
    "    W = np.zeros((dim, 1))\n",
    "    b = 0.0\n",
    "    return W, b"
   ]
  },
  {
   "cell_type": "markdown",
   "id": "a693d1ae-c67d-4547-a49b-5479bc22cd7d",
   "metadata": {},
   "source": [
    "### Forward pass"
   ]
  },
  {
   "cell_type": "code",
   "execution_count": 87,
   "id": "c88f3108-3fab-45b4-914c-c00d948f3cca",
   "metadata": {},
   "outputs": [],
   "source": [
    "def forward(X, W, b):\n",
    "    Z = np.dot(X, W) + b\n",
    "    A = sigmoid(Z)\n",
    "    return A"
   ]
  },
  {
   "cell_type": "markdown",
   "id": "a45e23f0-0cdf-48c0-bf05-013e5c90b06a",
   "metadata": {},
   "source": [
    "### Compute cost"
   ]
  },
  {
   "cell_type": "code",
   "execution_count": 89,
   "id": "099c2176-2492-42aa-91de-51190e19982b",
   "metadata": {},
   "outputs": [],
   "source": [
    "def compute_cost(A, Y):\n",
    "    m = Y.shape[0]\n",
    "    cost = -np.sum(Y * np.log(A + 1e-8) + (1 - Y) * np.log(1 - A + 1e-8)) / m\n",
    "    return cost"
   ]
  },
  {
   "cell_type": "markdown",
   "id": "0f576212-a236-457f-bf31-49478f40229e",
   "metadata": {},
   "source": [
    "### Backward pass"
   ]
  },
  {
   "cell_type": "code",
   "execution_count": 91,
   "id": "d1435e4b-9dde-4cc1-8173-83ecaf1a3cb7",
   "metadata": {},
   "outputs": [],
   "source": [
    "def backward(X, A, Y):\n",
    "    m = X.shape[0]\n",
    "    dW = np.dot(X.T, (A - Y)) / m\n",
    "    db = np.sum(A - Y) / m\n",
    "    return dW, db"
   ]
  },
  {
   "cell_type": "markdown",
   "id": "ac2a41bd-0ef8-4837-92a0-10ad780bdc38",
   "metadata": {},
   "source": [
    "### Training Loop"
   ]
  },
  {
   "cell_type": "code",
   "execution_count": 101,
   "id": "eb697363-aad3-4152-b7cd-35a1a0bfcefc",
   "metadata": {},
   "outputs": [],
   "source": [
    "def train(X, Y, learning_rate = 0.01, iterations = 1000):\n",
    "    W, b = initialize_weights(X.shape[1])\n",
    "    cost_history = []\n",
    "    for i in range(iterations):\n",
    "        A = forward(X, W, b)\n",
    "        cost = compute_cost(A, Y)\n",
    "        dW, db = backward(X, A, Y)\n",
    "        \n",
    "        W -= learning_rate * dW\n",
    "        b -= learning_rate * db\n",
    "\n",
    "        if i % 100 == 0:\n",
    "            cost_history.append(cost)\n",
    "            print(f\"\\nIteration {B}{i}{R} : \\n\\t\\t\\tCost = {B}{cost:.4f}{R}\")\n",
    "            print(f\"- - - - - - - - - - - - - - - - - - - - - - - - - - - - - - - - - - - -\")\n",
    "\n",
    "    print(\"\\n\\n\\n\")\n",
    "    plt.plot(np.arange(0, iterations, 100), cost_history)\n",
    "    plt.xlabel(\"Iterations\")\n",
    "    plt.ylabel(\"Cost\")\n",
    "    plt.title(\"Training Loss\")\n",
    "    plt.show()\n",
    "\n",
    "    return W, b"
   ]
  },
  {
   "cell_type": "markdown",
   "id": "f88d1519-ca9b-4a12-939f-e79e7fd9fa74",
   "metadata": {},
   "source": [
    "### Prediction"
   ]
  },
  {
   "cell_type": "code",
   "execution_count": 82,
   "id": "56f2cfc2-e0bd-4609-8e82-b9875971720f",
   "metadata": {},
   "outputs": [],
   "source": [
    "def predict(X, W, b):\n",
    "    A = forward(X, W, b)\n",
    "    return (A > 0.5).astype(int)"
   ]
  },
  {
   "cell_type": "markdown",
   "id": "b5934a1b-2362-40c6-8db6-746350a1a61f",
   "metadata": {},
   "source": [
    "### Accuracy"
   ]
  },
  {
   "cell_type": "code",
   "execution_count": 83,
   "id": "4f64259a-2f04-40eb-9c7f-b638c6f50660",
   "metadata": {},
   "outputs": [],
   "source": [
    "def accuracy(Y_pred, Y_true):\n",
    "    return np.mean(Y_pred == Y_true) * 100"
   ]
  },
  {
   "cell_type": "markdown",
   "id": "5a7e5404-68ea-404c-bbae-6b9d4491cbd1",
   "metadata": {},
   "source": [
    "### Train and Evaluate"
   ]
  },
  {
   "cell_type": "code",
   "execution_count": 102,
   "id": "5dc8da68-2a1e-40f7-8ce1-926dcdfcc44c",
   "metadata": {},
   "outputs": [
    {
     "name": "stdout",
     "output_type": "stream",
     "text": [
      "\n",
      "Iteration \u001b[1m0\u001b[0m : \n",
      "\t\t\tCost = \u001b[1m0.6931\u001b[0m\n",
      "- - - - - - - - - - - - - - - - - - - - - - - - - - - - - - - - - - - -\n",
      "\n",
      "Iteration \u001b[1m100\u001b[0m : \n",
      "\t\t\tCost = \u001b[1m0.6034\u001b[0m\n",
      "- - - - - - - - - - - - - - - - - - - - - - - - - - - - - - - - - - - -\n",
      "\n",
      "Iteration \u001b[1m200\u001b[0m : \n",
      "\t\t\tCost = \u001b[1m0.6014\u001b[0m\n",
      "- - - - - - - - - - - - - - - - - - - - - - - - - - - - - - - - - - - -\n",
      "\n",
      "Iteration \u001b[1m300\u001b[0m : \n",
      "\t\t\tCost = \u001b[1m0.6012\u001b[0m\n",
      "- - - - - - - - - - - - - - - - - - - - - - - - - - - - - - - - - - - -\n",
      "\n",
      "Iteration \u001b[1m400\u001b[0m : \n",
      "\t\t\tCost = \u001b[1m0.6012\u001b[0m\n",
      "- - - - - - - - - - - - - - - - - - - - - - - - - - - - - - - - - - - -\n",
      "\n",
      "Iteration \u001b[1m500\u001b[0m : \n",
      "\t\t\tCost = \u001b[1m0.6012\u001b[0m\n",
      "- - - - - - - - - - - - - - - - - - - - - - - - - - - - - - - - - - - -\n",
      "\n",
      "Iteration \u001b[1m600\u001b[0m : \n",
      "\t\t\tCost = \u001b[1m0.6012\u001b[0m\n",
      "- - - - - - - - - - - - - - - - - - - - - - - - - - - - - - - - - - - -\n",
      "\n",
      "Iteration \u001b[1m700\u001b[0m : \n",
      "\t\t\tCost = \u001b[1m0.6012\u001b[0m\n",
      "- - - - - - - - - - - - - - - - - - - - - - - - - - - - - - - - - - - -\n",
      "\n",
      "Iteration \u001b[1m800\u001b[0m : \n",
      "\t\t\tCost = \u001b[1m0.6012\u001b[0m\n",
      "- - - - - - - - - - - - - - - - - - - - - - - - - - - - - - - - - - - -\n",
      "\n",
      "Iteration \u001b[1m900\u001b[0m : \n",
      "\t\t\tCost = \u001b[1m0.6012\u001b[0m\n",
      "- - - - - - - - - - - - - - - - - - - - - - - - - - - - - - - - - - - -\n",
      "\n",
      "\n",
      "\n",
      "\n"
     ]
    },
    {
     "data": {
      "image/png": "[encoded data removed]",
      "text/plain": [
       "<Figure size 640x480 with 1 Axes>"
      ]
     },
     "metadata": {},
     "output_type": "display_data"
    },
    {
     "name": "stdout",
     "output_type": "stream",
     "text": [
      "\n",
      "\n",
      "\tTrain Accuracy  : \u001b[1m68.27%\u001b[0m\n",
      "\tTest Accuracy   : \u001b[1m69.11%\u001b[0m\n"
     ]
    }
   ],
   "source": [
    "W, b = train(x_train, y_train, learning_rate = 0.1, iterations = 1000)\n",
    "y_pred_train = predict(x_train, W, b)\n",
    "y_pred_test = predict(x_test, W, b)\n",
    "\n",
    "print(f\"\\n\\n\\tTrain Accuracy  : {B}{accuracy(y_pred_train, y_train):.2f}%{R}\")\n",
    "print(f\"\\tTest Accuracy   : {B}{accuracy(y_pred_test, y_test):.2f}%{R}\")"
   ]
  }
 ],
 "metadata": {
  "kernelspec": {
   "display_name": "Python 3 (ipykernel)",
   "language": "python",
   "name": "python3"
  },
  "language_info": {
   "codemirror_mode": {
    "name": "ipython",
    "version": 3
   },
   "file_extension": ".py",
   "mimetype": "text/x-python",
   "name": "python",
   "nbconvert_exporter": "python",
   "pygments_lexer": "ipython3",
   "version": "3.12.7"
  }
 },
 "nbformat": 4,
 "nbformat_minor": 5
}
