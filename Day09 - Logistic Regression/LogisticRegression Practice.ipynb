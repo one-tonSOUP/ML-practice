{
 "cells": [
  {
   "cell_type": "markdown",
   "id": "0558c561-1ad0-4aeb-9fb3-7caf5b5974f9",
   "metadata": {},
   "source": [
    "# Logistic Regression - Implementation"
   ]
  },
  {
   "cell_type": "code",
   "execution_count": 1,
   "id": "7904f297-17c1-4b96-a9ac-2422fabc876e",
   "metadata": {},
   "outputs": [],
   "source": [
    "import pandas as pd\n",
    "import numpy as np\n",
    "import matplotlib.pyplot as plt\n",
    "\n",
    "from sklearn.linear_model import LogisticRegression\n",
    "from sklearn.model_selection import train_test_split\n",
    "\n",
    "import warnings\n",
    "warnings.filterwarnings('ignore')"
   ]
  },
  {
   "cell_type": "code",
   "execution_count": 2,
   "id": "5798ef2a-8cb9-4646-aa8f-740019a631b6",
   "metadata": {},
   "outputs": [
    {
     "data": {
      "text/plain": [
       "['.ipynb_checkpoints', 'hr_job.csv', 'LogisticRegression Practice.ipynb']"
      ]
     },
     "execution_count": 2,
     "metadata": {},
     "output_type": "execute_result"
    }
   ],
   "source": [
    "import os\n",
    "os.listdir(os.getcwd())"
   ]
  },
  {
   "cell_type": "code",
   "execution_count": 3,
   "id": "c3c3c0ca-d432-49df-bb0c-33c06ab823a7",
   "metadata": {},
   "outputs": [],
   "source": [
    "data = pd.read_csv(\"hr_job.csv\")"
   ]
  },
  {
   "cell_type": "code",
   "execution_count": 4,
   "id": "c48792fe-997b-4e91-8874-a3428b35fa75",
   "metadata": {},
   "outputs": [
    {
     "name": "stdout",
     "output_type": "stream",
     "text": [
      "<class 'pandas.core.frame.DataFrame'>\n",
      "RangeIndex: 17257 entries, 0 to 17256\n",
      "Data columns (total 14 columns):\n",
      " #   Column                  Non-Null Count  Dtype  \n",
      "---  ------                  --------------  -----  \n",
      " 0   ID                      17257 non-null  int64  \n",
      " 1   city                    17257 non-null  int64  \n",
      " 2   city_development_index  17257 non-null  float64\n",
      " 3   gender                  17257 non-null  int64  \n",
      " 4   relevent_experience     17257 non-null  int64  \n",
      " 5   enrolled_university     17006 non-null  float64\n",
      " 6   education_level         16962 non-null  float64\n",
      " 7   major_discipline        15441 non-null  float64\n",
      " 8   experience              17161 non-null  float64\n",
      " 9   company_size            9603 non-null   float64\n",
      " 10  company_type            9982 non-null   float64\n",
      " 11  last_new_job            16928 non-null  float64\n",
      " 12  training_hours          17257 non-null  float64\n",
      " 13  target                  17257 non-null  int64  \n",
      "dtypes: float64(9), int64(5)\n",
      "memory usage: 1.8 MB\n"
     ]
    }
   ],
   "source": [
    "data.info()"
   ]
  },
  {
   "cell_type": "code",
   "execution_count": 6,
   "id": "2c125232-9f06-419f-b657-fa7c2f97bac2",
   "metadata": {},
   "outputs": [
    {
     "data": {
      "text/plain": [
       "(17257, 14)"
      ]
     },
     "execution_count": 6,
     "metadata": {},
     "output_type": "execute_result"
    }
   ],
   "source": [
    "data.shape"
   ]
  },
  {
   "cell_type": "code",
   "execution_count": 7,
   "id": "ab642b38-9700-40fe-a3b6-88322682956e",
   "metadata": {},
   "outputs": [
    {
     "data": {
      "text/html": [
       "<div>\n",
       "<style scoped>\n",
       "    .dataframe tbody tr th:only-of-type {\n",
       "        vertical-align: middle;\n",
       "    }\n",
       "\n",
       "    .dataframe tbody tr th {\n",
       "        vertical-align: top;\n",
       "    }\n",
       "\n",
       "    .dataframe thead th {\n",
       "        text-align: right;\n",
       "    }\n",
       "</style>\n",
       "<table border=\"1\" class=\"dataframe\">\n",
       "  <thead>\n",
       "    <tr style=\"text-align: right;\">\n",
       "      <th></th>\n",
       "      <th>count</th>\n",
       "      <th>mean</th>\n",
       "      <th>std</th>\n",
       "      <th>min</th>\n",
       "      <th>25%</th>\n",
       "      <th>50%</th>\n",
       "      <th>75%</th>\n",
       "      <th>max</th>\n",
       "    </tr>\n",
       "  </thead>\n",
       "  <tbody>\n",
       "    <tr>\n",
       "      <th>ID</th>\n",
       "      <td>17257.0</td>\n",
       "      <td>8629.000000</td>\n",
       "      <td>4981.811133</td>\n",
       "      <td>1.000</td>\n",
       "      <td>4315.00</td>\n",
       "      <td>8629.000000</td>\n",
       "      <td>12943.000000</td>\n",
       "      <td>17257.000</td>\n",
       "    </tr>\n",
       "    <tr>\n",
       "      <th>city</th>\n",
       "      <td>17257.0</td>\n",
       "      <td>72.991887</td>\n",
       "      <td>46.128232</td>\n",
       "      <td>1.000</td>\n",
       "      <td>21.00</td>\n",
       "      <td>83.000000</td>\n",
       "      <td>103.000000</td>\n",
       "      <td>180.000</td>\n",
       "    </tr>\n",
       "    <tr>\n",
       "      <th>city_development_index</th>\n",
       "      <td>17257.0</td>\n",
       "      <td>0.805103</td>\n",
       "      <td>0.128002</td>\n",
       "      <td>0.448</td>\n",
       "      <td>0.68</td>\n",
       "      <td>0.874349</td>\n",
       "      <td>0.920000</td>\n",
       "      <td>0.949</td>\n",
       "    </tr>\n",
       "    <tr>\n",
       "      <th>gender</th>\n",
       "      <td>17257.0</td>\n",
       "      <td>0.828417</td>\n",
       "      <td>0.488328</td>\n",
       "      <td>0.000</td>\n",
       "      <td>1.00</td>\n",
       "      <td>1.000000</td>\n",
       "      <td>1.000000</td>\n",
       "      <td>2.000</td>\n",
       "    </tr>\n",
       "    <tr>\n",
       "      <th>relevent_experience</th>\n",
       "      <td>17257.0</td>\n",
       "      <td>0.710726</td>\n",
       "      <td>0.453438</td>\n",
       "      <td>0.000</td>\n",
       "      <td>0.00</td>\n",
       "      <td>1.000000</td>\n",
       "      <td>1.000000</td>\n",
       "      <td>1.000</td>\n",
       "    </tr>\n",
       "    <tr>\n",
       "      <th>enrolled_university</th>\n",
       "      <td>17006.0</td>\n",
       "      <td>0.476891</td>\n",
       "      <td>0.825014</td>\n",
       "      <td>0.000</td>\n",
       "      <td>0.00</td>\n",
       "      <td>0.000000</td>\n",
       "      <td>1.000000</td>\n",
       "      <td>2.000</td>\n",
       "    </tr>\n",
       "    <tr>\n",
       "      <th>education_level</th>\n",
       "      <td>16962.0</td>\n",
       "      <td>3.108183</td>\n",
       "      <td>0.582475</td>\n",
       "      <td>1.000</td>\n",
       "      <td>3.00</td>\n",
       "      <td>3.000000</td>\n",
       "      <td>3.000000</td>\n",
       "      <td>5.000</td>\n",
       "    </tr>\n",
       "    <tr>\n",
       "      <th>major_discipline</th>\n",
       "      <td>15441.0</td>\n",
       "      <td>3.888543</td>\n",
       "      <td>0.581960</td>\n",
       "      <td>0.000</td>\n",
       "      <td>4.00</td>\n",
       "      <td>4.000000</td>\n",
       "      <td>4.000000</td>\n",
       "      <td>5.000</td>\n",
       "    </tr>\n",
       "    <tr>\n",
       "      <th>experience</th>\n",
       "      <td>17161.0</td>\n",
       "      <td>10.532370</td>\n",
       "      <td>8.291935</td>\n",
       "      <td>0.000</td>\n",
       "      <td>4.00</td>\n",
       "      <td>8.000000</td>\n",
       "      <td>15.000000</td>\n",
       "      <td>25.000</td>\n",
       "    </tr>\n",
       "    <tr>\n",
       "      <th>company_size</th>\n",
       "      <td>9603.0</td>\n",
       "      <td>4.259711</td>\n",
       "      <td>2.187910</td>\n",
       "      <td>1.000</td>\n",
       "      <td>3.00</td>\n",
       "      <td>4.000000</td>\n",
       "      <td>6.000000</td>\n",
       "      <td>8.000</td>\n",
       "    </tr>\n",
       "    <tr>\n",
       "      <th>company_type</th>\n",
       "      <td>9982.0</td>\n",
       "      <td>3.775496</td>\n",
       "      <td>0.848857</td>\n",
       "      <td>0.000</td>\n",
       "      <td>4.00</td>\n",
       "      <td>4.000000</td>\n",
       "      <td>4.000000</td>\n",
       "      <td>5.000</td>\n",
       "    </tr>\n",
       "    <tr>\n",
       "      <th>last_new_job</th>\n",
       "      <td>16928.0</td>\n",
       "      <td>1.794542</td>\n",
       "      <td>1.582556</td>\n",
       "      <td>0.000</td>\n",
       "      <td>1.00</td>\n",
       "      <td>1.000000</td>\n",
       "      <td>2.000000</td>\n",
       "      <td>5.000</td>\n",
       "    </tr>\n",
       "    <tr>\n",
       "      <th>training_hours</th>\n",
       "      <td>17257.0</td>\n",
       "      <td>63.974366</td>\n",
       "      <td>57.102777</td>\n",
       "      <td>1.000</td>\n",
       "      <td>24.00</td>\n",
       "      <td>46.669853</td>\n",
       "      <td>85.425166</td>\n",
       "      <td>336.000</td>\n",
       "    </tr>\n",
       "    <tr>\n",
       "      <th>target</th>\n",
       "      <td>17257.0</td>\n",
       "      <td>0.499971</td>\n",
       "      <td>0.500014</td>\n",
       "      <td>0.000</td>\n",
       "      <td>0.00</td>\n",
       "      <td>0.000000</td>\n",
       "      <td>1.000000</td>\n",
       "      <td>1.000</td>\n",
       "    </tr>\n",
       "  </tbody>\n",
       "</table>\n",
       "</div>"
      ],
      "text/plain": [
       "                          count         mean          std    min      25%  \\\n",
       "ID                      17257.0  8629.000000  4981.811133  1.000  4315.00   \n",
       "city                    17257.0    72.991887    46.128232  1.000    21.00   \n",
       "city_development_index  17257.0     0.805103     0.128002  0.448     0.68   \n",
       "gender                  17257.0     0.828417     0.488328  0.000     1.00   \n",
       "relevent_experience     17257.0     0.710726     0.453438  0.000     0.00   \n",
       "enrolled_university     17006.0     0.476891     0.825014  0.000     0.00   \n",
       "education_level         16962.0     3.108183     0.582475  1.000     3.00   \n",
       "major_discipline        15441.0     3.888543     0.581960  0.000     4.00   \n",
       "experience              17161.0    10.532370     8.291935  0.000     4.00   \n",
       "company_size             9603.0     4.259711     2.187910  1.000     3.00   \n",
       "company_type             9982.0     3.775496     0.848857  0.000     4.00   \n",
       "last_new_job            16928.0     1.794542     1.582556  0.000     1.00   \n",
       "training_hours          17257.0    63.974366    57.102777  1.000    24.00   \n",
       "target                  17257.0     0.499971     0.500014  0.000     0.00   \n",
       "\n",
       "                                50%           75%        max  \n",
       "ID                      8629.000000  12943.000000  17257.000  \n",
       "city                      83.000000    103.000000    180.000  \n",
       "city_development_index     0.874349      0.920000      0.949  \n",
       "gender                     1.000000      1.000000      2.000  \n",
       "relevent_experience        1.000000      1.000000      1.000  \n",
       "enrolled_university        0.000000      1.000000      2.000  \n",
       "education_level            3.000000      3.000000      5.000  \n",
       "major_discipline           4.000000      4.000000      5.000  \n",
       "experience                 8.000000     15.000000     25.000  \n",
       "company_size               4.000000      6.000000      8.000  \n",
       "company_type               4.000000      4.000000      5.000  \n",
       "last_new_job               1.000000      2.000000      5.000  \n",
       "training_hours            46.669853     85.425166    336.000  \n",
       "target                     0.000000      1.000000      1.000  "
      ]
     },
     "execution_count": 7,
     "metadata": {},
     "output_type": "execute_result"
    }
   ],
   "source": [
    "data.describe().T"
   ]
  },
  {
   "cell_type": "code",
   "execution_count": 9,
   "id": "6b5cce92-b576-48b4-a903-4f59a5a891dd",
   "metadata": {},
   "outputs": [],
   "source": [
    "class StandardScalar():\n",
    "    def fit_transform(self, x):\n",
    "        mean = np.mean(x, axis = 0)\n",
    "        std_dev = np.std(x)\n",
    "        return (x - mean) / std_dev"
   ]
  },
  {
   "cell_type": "code",
   "execution_count": 11,
   "id": "79b12189-81e3-4edd-af02-6f99380f1e8e",
   "metadata": {},
   "outputs": [
    {
     "data": {
      "text/plain": [
       "ID                           0\n",
       "city                         0\n",
       "city_development_index       0\n",
       "gender                       0\n",
       "relevent_experience          0\n",
       "enrolled_university        251\n",
       "education_level            295\n",
       "major_discipline          1816\n",
       "experience                  96\n",
       "company_size              7654\n",
       "company_type              7275\n",
       "last_new_job               329\n",
       "training_hours               0\n",
       "target                       0\n",
       "dtype: int64"
      ]
     },
     "execution_count": 11,
     "metadata": {},
     "output_type": "execute_result"
    }
   ],
   "source": [
    "data.isnull().sum()"
   ]
  },
  {
   "cell_type": "code",
   "execution_count": 12,
   "id": "0ef0a427-9338-4688-b54c-a9b2eca379c0",
   "metadata": {},
   "outputs": [],
   "source": [
    "data.fillna(method = 'bfill', inplace = True)"
   ]
  },
  {
   "cell_type": "code",
   "execution_count": 14,
   "id": "2eb1b19a-6e26-44a9-bb5c-a244046d59a6",
   "metadata": {},
   "outputs": [
    {
     "data": {
      "text/plain": [
       "ID                        0\n",
       "city                      0\n",
       "city_development_index    0\n",
       "gender                    0\n",
       "relevent_experience       0\n",
       "enrolled_university       0\n",
       "education_level           0\n",
       "major_discipline          0\n",
       "experience                0\n",
       "company_size              0\n",
       "company_type              0\n",
       "last_new_job              0\n",
       "training_hours            0\n",
       "target                    0\n",
       "dtype: int64"
      ]
     },
     "execution_count": 14,
     "metadata": {},
     "output_type": "execute_result"
    }
   ],
   "source": [
    "data.isnull().sum()"
   ]
  },
  {
   "cell_type": "code",
   "execution_count": 15,
   "id": "dbeb9b89-09a8-47b2-b027-f12ce84c9c2b",
   "metadata": {},
   "outputs": [
    {
     "data": {
      "text/html": [
       "<div>\n",
       "<style scoped>\n",
       "    .dataframe tbody tr th:only-of-type {\n",
       "        vertical-align: middle;\n",
       "    }\n",
       "\n",
       "    .dataframe tbody tr th {\n",
       "        vertical-align: top;\n",
       "    }\n",
       "\n",
       "    .dataframe thead th {\n",
       "        text-align: right;\n",
       "    }\n",
       "</style>\n",
       "<table border=\"1\" class=\"dataframe\">\n",
       "  <thead>\n",
       "    <tr style=\"text-align: right;\">\n",
       "      <th></th>\n",
       "      <th>ID</th>\n",
       "      <th>city</th>\n",
       "      <th>city_development_index</th>\n",
       "      <th>gender</th>\n",
       "      <th>relevent_experience</th>\n",
       "      <th>enrolled_university</th>\n",
       "      <th>education_level</th>\n",
       "      <th>major_discipline</th>\n",
       "      <th>experience</th>\n",
       "      <th>company_size</th>\n",
       "      <th>company_type</th>\n",
       "      <th>last_new_job</th>\n",
       "      <th>training_hours</th>\n",
       "      <th>target</th>\n",
       "    </tr>\n",
       "  </thead>\n",
       "  <tbody>\n",
       "    <tr>\n",
       "      <th>0</th>\n",
       "      <td>1</td>\n",
       "      <td>21</td>\n",
       "      <td>0.624000</td>\n",
       "      <td>1</td>\n",
       "      <td>0</td>\n",
       "      <td>2.0</td>\n",
       "      <td>3.0</td>\n",
       "      <td>4.0</td>\n",
       "      <td>3.0</td>\n",
       "      <td>4.0</td>\n",
       "      <td>4.0</td>\n",
       "      <td>0.0</td>\n",
       "      <td>31.372145</td>\n",
       "      <td>1</td>\n",
       "    </tr>\n",
       "    <tr>\n",
       "      <th>1</th>\n",
       "      <td>2</td>\n",
       "      <td>21</td>\n",
       "      <td>0.616795</td>\n",
       "      <td>1</td>\n",
       "      <td>0</td>\n",
       "      <td>2.0</td>\n",
       "      <td>3.0</td>\n",
       "      <td>4.0</td>\n",
       "      <td>0.0</td>\n",
       "      <td>4.0</td>\n",
       "      <td>4.0</td>\n",
       "      <td>1.0</td>\n",
       "      <td>63.988905</td>\n",
       "      <td>1</td>\n",
       "    </tr>\n",
       "    <tr>\n",
       "      <th>2</th>\n",
       "      <td>3</td>\n",
       "      <td>73</td>\n",
       "      <td>0.754000</td>\n",
       "      <td>1</td>\n",
       "      <td>0</td>\n",
       "      <td>2.0</td>\n",
       "      <td>3.0</td>\n",
       "      <td>4.0</td>\n",
       "      <td>0.0</td>\n",
       "      <td>4.0</td>\n",
       "      <td>4.0</td>\n",
       "      <td>0.0</td>\n",
       "      <td>19.000000</td>\n",
       "      <td>1</td>\n",
       "    </tr>\n",
       "    <tr>\n",
       "      <th>3</th>\n",
       "      <td>4</td>\n",
       "      <td>57</td>\n",
       "      <td>0.866000</td>\n",
       "      <td>1</td>\n",
       "      <td>0</td>\n",
       "      <td>0.0</td>\n",
       "      <td>5.0</td>\n",
       "      <td>4.0</td>\n",
       "      <td>9.0</td>\n",
       "      <td>4.0</td>\n",
       "      <td>4.0</td>\n",
       "      <td>5.0</td>\n",
       "      <td>53.000000</td>\n",
       "      <td>0</td>\n",
       "    </tr>\n",
       "    <tr>\n",
       "      <th>4</th>\n",
       "      <td>5</td>\n",
       "      <td>21</td>\n",
       "      <td>0.624000</td>\n",
       "      <td>1</td>\n",
       "      <td>1</td>\n",
       "      <td>0.0</td>\n",
       "      <td>4.0</td>\n",
       "      <td>4.0</td>\n",
       "      <td>5.0</td>\n",
       "      <td>3.0</td>\n",
       "      <td>4.0</td>\n",
       "      <td>5.0</td>\n",
       "      <td>108.000000</td>\n",
       "      <td>1</td>\n",
       "    </tr>\n",
       "  </tbody>\n",
       "</table>\n",
       "</div>"
      ],
      "text/plain": [
       "   ID  city  city_development_index  gender  relevent_experience  \\\n",
       "0   1    21                0.624000       1                    0   \n",
       "1   2    21                0.616795       1                    0   \n",
       "2   3    73                0.754000       1                    0   \n",
       "3   4    57                0.866000       1                    0   \n",
       "4   5    21                0.624000       1                    1   \n",
       "\n",
       "   enrolled_university  education_level  major_discipline  experience  \\\n",
       "0                  2.0              3.0               4.0         3.0   \n",
       "1                  2.0              3.0               4.0         0.0   \n",
       "2                  2.0              3.0               4.0         0.0   \n",
       "3                  0.0              5.0               4.0         9.0   \n",
       "4                  0.0              4.0               4.0         5.0   \n",
       "\n",
       "   company_size  company_type  last_new_job  training_hours  target  \n",
       "0           4.0           4.0           0.0       31.372145       1  \n",
       "1           4.0           4.0           1.0       63.988905       1  \n",
       "2           4.0           4.0           0.0       19.000000       1  \n",
       "3           4.0           4.0           5.0       53.000000       0  \n",
       "4           3.0           4.0           5.0      108.000000       1  "
      ]
     },
     "execution_count": 15,
     "metadata": {},
     "output_type": "execute_result"
    }
   ],
   "source": [
    "data.head(5)"
   ]
  },
  {
   "cell_type": "code",
   "execution_count": 16,
   "id": "aabd6745-3344-42e5-be2e-b0dcdc0e3b2f",
   "metadata": {},
   "outputs": [],
   "source": [
    "data.drop('city', axis = 1, inplace = True)"
   ]
  },
  {
   "cell_type": "code",
   "execution_count": 17,
   "id": "e90a75ea-12ae-42be-bef0-efd6c00441f9",
   "metadata": {},
   "outputs": [],
   "source": [
    "X = data.iloc[:,:-1]\n",
    "Y = data.target"
   ]
  },
  {
   "cell_type": "code",
   "execution_count": 18,
   "id": "8e9e439c-87d6-436d-9128-c672f8f8ee07",
   "metadata": {},
   "outputs": [],
   "source": [
    "sc = StandardScalar()\n",
    "X = sc.fit_transform(X)"
   ]
  },
  {
   "cell_type": "code",
   "execution_count": 19,
   "id": "ddc2f398-3b09-47af-8b00-d2711dd29e6c",
   "metadata": {},
   "outputs": [],
   "source": [
    "def initialize_weights(dim):\n",
    "    W = np.full((dim, 1), 0.1)\n",
    "    b = 0.0\n",
    "    return W, b"
   ]
  },
  {
   "cell_type": "code",
   "execution_count": 20,
   "id": "87a3704d-f9c9-47cc-b576-2dcc4d9f4512",
   "metadata": {},
   "outputs": [],
   "source": [
    "def activation(Z):\n",
    "    sigmoid = 1 / (1 + np.exp(-Z))\n",
    "    return sigmoid"
   ]
  },
  {
   "cell_type": "code",
   "execution_count": 21,
   "id": "01aaaac3-df9e-48c8-a6bd-d91612700ecf",
   "metadata": {},
   "outputs": [],
   "source": [
    "def costFunction(y_pred, y):\n",
    "    training_samples = y_shape[0]\n",
    "    loss = (y * np.log(y_pred)) + ((1 - y) * np.log(1 - y_pred))\n",
    "    return -np.sum(loss) / training_samples"
   ]
  },
  {
   "cell_type": "code",
   "execution_count": 22,
   "id": "274adb14-770b-49ae-9e53-d9fa4604ca68",
   "metadata": {},
   "outputs": [],
   "source": [
    "def gradient_descent(x_train, y_train, y_pred):\n",
    "    cost - costFunction(y_pred, y_train)\n",
    "    derivative_weight = (np.dot(x_train.T,(y_pred - y_train))) / x_train.shape[0]\n",
    "    derivative_bias = np.sum(y_pred - y_train, keepdims = True) / x_train.shape[0]\n",
    "    gradients = {\"dW\" : derivative_weight, \"db\" : derivative_bias}\n",
    "    return cost, gradients"
   ]
  },
  {
   "cell_type": "code",
   "execution_count": null,
   "id": "f0a66595-d6e9-4412-bb3e-e34473644d78",
   "metadata": {},
   "outputs": [],
   "source": []
  }
 ],
 "metadata": {
  "kernelspec": {
   "display_name": "Python 3 (ipykernel)",
   "language": "python",
   "name": "python3"
  },
  "language_info": {
   "codemirror_mode": {
    "name": "ipython",
    "version": 3
   },
   "file_extension": ".py",
   "mimetype": "text/x-python",
   "name": "python",
   "nbconvert_exporter": "python",
   "pygments_lexer": "ipython3",
   "version": "3.12.7"
  }
 },
 "nbformat": 4,
 "nbformat_minor": 5
}
