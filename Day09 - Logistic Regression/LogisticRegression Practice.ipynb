{
 "cells": [
  {
   "cell_type": "code",
   "execution_count": null,
   "id": "ab3af009-37ca-4941-b546-c3a7932cc82d",
   "metadata": {},
   "outputs": [],
   "source": []
  }
 ],
 "metadata": {
  "kernelspec": {
   "display_name": "",
   "name": ""
  },
  "language_info": {
   "name": ""
  }
 },
 "nbformat": 4,
 "nbformat_minor": 5
}
