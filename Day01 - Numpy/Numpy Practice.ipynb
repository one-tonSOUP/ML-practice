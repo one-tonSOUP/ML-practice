{
 "cells": [
  {
   "cell_type": "code",
   "execution_count": 2,
   "id": "4f835c1d-a2e0-4d19-8956-2dfd8a79c854",
   "metadata": {},
   "outputs": [],
   "source": [
    "import numpy as np"
   ]
  },
  {
   "cell_type": "code",
   "execution_count": 16,
   "id": "6f004a2a-843a-4267-aa59-b270c6b2983c",
   "metadata": {},
   "outputs": [
    {
     "data": {
      "text/plain": [
       "array([0, 1, 2, 3, 4, 5, 6, 7, 8, 9])"
      ]
     },
     "execution_count": 16,
     "metadata": {},
     "output_type": "execute_result"
    }
   ],
   "source": [
    "ar = np.arange(0, 10, 1)\n",
    "ar"
   ]
  },
  {
   "cell_type": "code",
   "execution_count": 17,
   "id": "0c358ff7-f57f-4b87-bcc7-df2cb39d8297",
   "metadata": {},
   "outputs": [
    {
     "data": {
      "text/plain": [
       "numpy.ndarray"
      ]
     },
     "execution_count": 17,
     "metadata": {},
     "output_type": "execute_result"
    }
   ],
   "source": [
    "type(ar)"
   ]
  },
  {
   "cell_type": "markdown",
   "id": "73d5f0c6-509d-4767-a22a-4ac3cb98c008",
   "metadata": {},
   "source": [
    "# Size of a Numpy Array"
   ]
  },
  {
   "cell_type": "code",
   "execution_count": 18,
   "id": "fe178a95-c40e-4250-ba5e-eb5c204ded37",
   "metadata": {},
   "outputs": [
    {
     "name": "stdout",
     "output_type": "stream",
     "text": [
      "Length : 10\n",
      "Size   : 10\n"
     ]
    }
   ],
   "source": [
    "print(f\"Length : {len(ar)}\")\n",
    "print(f\"Size   : {ar.size}\")"
   ]
  },
  {
   "cell_type": "code",
   "execution_count": 20,
   "id": "7ddc9f83-3f1a-4bce-85e4-4f939ba1b77a",
   "metadata": {},
   "outputs": [
    {
     "data": {
      "text/plain": [
       "40"
      ]
     },
     "execution_count": 20,
     "metadata": {},
     "output_type": "execute_result"
    }
   ],
   "source": [
    "ar.size*ar.itemsize"
   ]
  },
  {
   "cell_type": "code",
   "execution_count": 21,
   "id": "7a503bfd-03e1-4fd5-92c4-37c8956dd1cf",
   "metadata": {},
   "outputs": [
    {
     "data": {
      "text/plain": [
       "40"
      ]
     },
     "execution_count": 21,
     "metadata": {},
     "output_type": "execute_result"
    }
   ],
   "source": [
    "ar.nbytes"
   ]
  },
  {
   "cell_type": "code",
   "execution_count": 24,
   "id": "65669385-4676-4077-a266-d0bc1b4264ad",
   "metadata": {},
   "outputs": [
    {
     "data": {
      "text/plain": [
       "array([[1, 2, 3, 4],\n",
       "       [5, 6, 7, 8]])"
      ]
     },
     "execution_count": 24,
     "metadata": {},
     "output_type": "execute_result"
    }
   ],
   "source": [
    "ar_2d = np.array([[1, 2, 3, 4],[5, 6, 7, 8]])\n",
    "ar_2d"
   ]
  },
  {
   "cell_type": "code",
   "execution_count": 27,
   "id": "77f3e7b5-7336-4822-9595-aacd0d9cfc46",
   "metadata": {},
   "outputs": [
    {
     "data": {
      "text/plain": [
       "2"
      ]
     },
     "execution_count": 27,
     "metadata": {},
     "output_type": "execute_result"
    }
   ],
   "source": [
    "ar_2d.ndim"
   ]
  },
  {
   "cell_type": "code",
   "execution_count": 28,
   "id": "be6aaa2c-af59-48be-a662-6dc3a19db417",
   "metadata": {},
   "outputs": [
    {
     "data": {
      "text/plain": [
       "8"
      ]
     },
     "execution_count": 28,
     "metadata": {},
     "output_type": "execute_result"
    }
   ],
   "source": [
    "ar_2d.size"
   ]
  },
  {
   "cell_type": "markdown",
   "id": "e7d89bc2-26f3-4139-ac9b-ca595984b22d",
   "metadata": {},
   "source": [
    "# Shape & Reshape an Array"
   ]
  },
  {
   "cell_type": "code",
   "execution_count": 30,
   "id": "85a7ddc4-f7ec-421e-a446-43560e7e8645",
   "metadata": {},
   "outputs": [
    {
     "data": {
      "text/plain": [
       "array([0.67895999, 0.8801882 , 0.5619744 , 0.77377311, 0.72769127,\n",
       "       0.28833744, 0.02584603, 0.51628832, 0.06847167, 0.76279085])"
      ]
     },
     "execution_count": 30,
     "metadata": {},
     "output_type": "execute_result"
    }
   ],
   "source": [
    "n_ar = np.random.rand(10)\n",
    "n_ar"
   ]
  },
  {
   "cell_type": "code",
   "execution_count": 34,
   "id": "8e779c31-8d02-43f1-af20-8c6fb001233e",
   "metadata": {},
   "outputs": [
    {
     "name": "stdout",
     "output_type": "stream",
     "text": [
      "Shape   : (10,)\n",
      "N-Dim   : 1\n",
      "Length  : 1\n"
     ]
    }
   ],
   "source": [
    "print(f\"Shape   : {n_ar.shape}\")\n",
    "print(f\"N-Dim   : {n_ar.ndim}\")\n",
    "print(f\"Length  : {len(n_ar.shape)}\")"
   ]
  },
  {
   "cell_type": "markdown",
   "id": "6a546d1f-4346-47bd-aa8d-047f187eadbe",
   "metadata": {},
   "source": [
    "## 3-D Array"
   ]
  },
  {
   "cell_type": "code",
   "execution_count": 35,
   "id": "36676ca3-ed72-47ce-9f19-2a7445c79025",
   "metadata": {},
   "outputs": [
    {
     "data": {
      "text/plain": [
       "array([[[1, 2, 3],\n",
       "        [4, 5, 6],\n",
       "        [7, 8, 9]]])"
      ]
     },
     "execution_count": 35,
     "metadata": {},
     "output_type": "execute_result"
    }
   ],
   "source": [
    "ar_3d = np.array([[[1,2,3],[4,5,6],[7,8,9]]])\n",
    "ar_3d"
   ]
  },
  {
   "cell_type": "code",
   "execution_count": 36,
   "id": "7c4a53c8-46cc-4f95-9033-d4e8149f9186",
   "metadata": {},
   "outputs": [
    {
     "name": "stdout",
     "output_type": "stream",
     "text": [
      "Shape   : (1, 3, 3)\n",
      "N-Dim   : 3\n",
      "Length  : 3\n"
     ]
    }
   ],
   "source": [
    "print(f\"Shape   : {ar_3d.shape}\")\n",
    "print(f\"N-Dim   : {ar_3d.ndim}\")\n",
    "print(f\"Length  : {len(ar_3d.shape)}\")"
   ]
  },
  {
   "cell_type": "markdown",
   "id": "b6e57a31-3524-4bc2-a99c-032a9c865337",
   "metadata": {},
   "source": [
    "## Indexing & Slicing of an Array"
   ]
  },
  {
   "cell_type": "code",
   "execution_count": 38,
   "id": "da0f5b71-e8b5-4c7c-959f-66d4a2e17c4a",
   "metadata": {},
   "outputs": [
    {
     "data": {
      "text/plain": [
       "array([[ 1,  2,  3,  4],\n",
       "       [ 5,  6,  7,  8],\n",
       "       [ 9, 10, 11, 12]])"
      ]
     },
     "execution_count": 38,
     "metadata": {},
     "output_type": "execute_result"
    }
   ],
   "source": [
    "ar = np.array([[1,2,3,4],[5,6,7,8],[9,10,11,12]])\n",
    "ar"
   ]
  },
  {
   "cell_type": "code",
   "execution_count": 39,
   "id": "9bd0f5b5-f91f-42dd-af72-17f5876babc6",
   "metadata": {},
   "outputs": [
    {
     "name": "stdout",
     "output_type": "stream",
     "text": [
      "Shape   : (3, 4)\n",
      "N-Dim   : 2\n",
      "Length  : 2\n"
     ]
    }
   ],
   "source": [
    "print(f\"Shape   : {ar.shape}\")\n",
    "print(f\"N-Dim   : {ar.ndim}\")\n",
    "print(f\"Length  : {len(ar.shape)}\")"
   ]
  },
  {
   "cell_type": "code",
   "execution_count": 42,
   "id": "6aaf3fb1-6fff-4042-bce5-d9357e070176",
   "metadata": {},
   "outputs": [
    {
     "data": {
      "text/plain": [
       "1"
      ]
     },
     "execution_count": 42,
     "metadata": {},
     "output_type": "execute_result"
    }
   ],
   "source": [
    "ar[0][0]"
   ]
  },
  {
   "cell_type": "code",
   "execution_count": 43,
   "id": "7f4d28e0-79ce-42f8-bbc4-9d31f3084914",
   "metadata": {},
   "outputs": [
    {
     "data": {
      "text/plain": [
       "array([1, 2, 3, 4])"
      ]
     },
     "execution_count": 43,
     "metadata": {},
     "output_type": "execute_result"
    }
   ],
   "source": [
    "ar[0]"
   ]
  },
  {
   "cell_type": "code",
   "execution_count": 44,
   "id": "07c58ab8-71c7-4058-8f13-b63348b7ee7a",
   "metadata": {},
   "outputs": [
    {
     "data": {
      "text/plain": [
       "array([ 9, 10, 11, 12])"
      ]
     },
     "execution_count": 44,
     "metadata": {},
     "output_type": "execute_result"
    }
   ],
   "source": [
    "ar[-1]"
   ]
  },
  {
   "cell_type": "code",
   "execution_count": 45,
   "id": "ca06504c-391d-41ee-8fd8-1d4f1e4c4723",
   "metadata": {},
   "outputs": [
    {
     "name": "stdout",
     "output_type": "stream",
     "text": [
      "Element at index [0][0]  : 1\n",
      "Element at index [0]     : [1 2 3 4]\n",
      "Element at index [-1]    : [ 9 10 11 12]\n"
     ]
    }
   ],
   "source": [
    "print(f\"Element at index [0][0]  : {ar[0][0]}\")\n",
    "print(f\"Element at index [0]     : {ar[0]}\")\n",
    "print(f\"Element at index [-1]    : {ar[-1]}\")"
   ]
  },
  {
   "cell_type": "code",
   "execution_count": 46,
   "id": "1d755ce1-3278-4ddf-865e-2fe3c2f24ab1",
   "metadata": {},
   "outputs": [
    {
     "data": {
      "text/plain": [
       "array([[1, 2, 3, 4],\n",
       "       [5, 6, 7, 8]])"
      ]
     },
     "execution_count": 46,
     "metadata": {},
     "output_type": "execute_result"
    }
   ],
   "source": [
    "# Slicing ..\n",
    "\n",
    "ar[0:2]"
   ]
  },
  {
   "cell_type": "code",
   "execution_count": 47,
   "id": "23ac5c51-f261-4510-9350-9f8b99f482b6",
   "metadata": {},
   "outputs": [
    {
     "data": {
      "text/plain": [
       "array([[5, 6]])"
      ]
     },
     "execution_count": 47,
     "metadata": {},
     "output_type": "execute_result"
    }
   ],
   "source": [
    "ar[1:2, 0:2]"
   ]
  },
  {
   "cell_type": "code",
   "execution_count": 48,
   "id": "c56d5225-5de1-46e1-8fd3-5defb4ae1bfd",
   "metadata": {},
   "outputs": [
    {
     "data": {
      "text/plain": [
       "array([[ 1,  2,  3,  4],\n",
       "       [ 9, 10, 11, 12]])"
      ]
     },
     "execution_count": 48,
     "metadata": {},
     "output_type": "execute_result"
    }
   ],
   "source": [
    "ar[[0, -1]]"
   ]
  },
  {
   "cell_type": "code",
   "execution_count": 49,
   "id": "27c7d033-abaf-4a73-9e61-7004cddf1dce",
   "metadata": {},
   "outputs": [
    {
     "data": {
      "text/plain": [
       "array([ 4,  8, 12])"
      ]
     },
     "execution_count": 49,
     "metadata": {},
     "output_type": "execute_result"
    }
   ],
   "source": [
    "ar[0:, -1]"
   ]
  },
  {
   "cell_type": "code",
   "execution_count": 50,
   "id": "93e4860e-8ec5-43a0-9c8a-27c8566fb9e3",
   "metadata": {},
   "outputs": [
    {
     "data": {
      "text/plain": [
       "array([[ 1,  3],\n",
       "       [ 9, 11]])"
      ]
     },
     "execution_count": 50,
     "metadata": {},
     "output_type": "execute_result"
    }
   ],
   "source": [
    "ar[0:3:2, 0:-1:2]"
   ]
  },
  {
   "cell_type": "code",
   "execution_count": 51,
   "id": "7bad3ab8-ff26-4459-b62e-14c5d008beee",
   "metadata": {},
   "outputs": [
    {
     "data": {
      "text/plain": [
       "array([[ 1,  2,  3,  4],\n",
       "       [ 5,  6,  7,  8],\n",
       "       [ 9, 10, 11, 12]])"
      ]
     },
     "execution_count": 51,
     "metadata": {},
     "output_type": "execute_result"
    }
   ],
   "source": [
    "ar"
   ]
  },
  {
   "cell_type": "markdown",
   "id": "965a14e5-167e-4a42-a9af-28d3ef49e310",
   "metadata": {},
   "source": [
    "## Transpose of an Array"
   ]
  },
  {
   "cell_type": "code",
   "execution_count": 53,
   "id": "a34a4fce-bd00-46b0-b922-de2f0fc5cdcb",
   "metadata": {},
   "outputs": [
    {
     "data": {
      "text/plain": [
       "array([[10, 20, 30, 40],\n",
       "       [50, 60, 70, 80]])"
      ]
     },
     "execution_count": 53,
     "metadata": {},
     "output_type": "execute_result"
    }
   ],
   "source": [
    "ar = np.array([[10,20,30,40],[50,60,70,80]])\n",
    "ar"
   ]
  },
  {
   "cell_type": "code",
   "execution_count": 54,
   "id": "11c16405-ca4f-477f-a94a-6b044f8820dd",
   "metadata": {},
   "outputs": [
    {
     "name": "stdout",
     "output_type": "stream",
     "text": [
      "Shape   : (2, 4)\n"
     ]
    }
   ],
   "source": [
    "print(f\"Shape   : {ar.shape}\")"
   ]
  },
  {
   "cell_type": "code",
   "execution_count": 56,
   "id": "5e30f560-417e-4d0c-a5a8-bc19a5e0bfb2",
   "metadata": {},
   "outputs": [
    {
     "data": {
      "text/plain": [
       "array([[10, 50],\n",
       "       [20, 60],\n",
       "       [30, 70],\n",
       "       [40, 80]])"
      ]
     },
     "execution_count": 56,
     "metadata": {},
     "output_type": "execute_result"
    }
   ],
   "source": [
    "# Transpose ..\n",
    "\n",
    "ar.T"
   ]
  },
  {
   "cell_type": "code",
   "execution_count": 59,
   "id": "be3ab6ca-4f6f-4a65-bc00-085880e7e9a4",
   "metadata": {},
   "outputs": [
    {
     "name": "stdout",
     "output_type": "stream",
     "text": [
      "Shape   : (4, 2)\n"
     ]
    }
   ],
   "source": [
    "print(f\"Shape   : {ar.T.shape}\")"
   ]
  },
  {
   "cell_type": "markdown",
   "id": "661a0e1a-c977-455a-9d56-0925f419b2ba",
   "metadata": {},
   "source": [
    "# Mean, Median, Variance & Std Deviation"
   ]
  },
  {
   "cell_type": "code",
   "execution_count": 3,
   "id": "a1f6dfb5-d812-42ca-9912-1196b8812e76",
   "metadata": {},
   "outputs": [
    {
     "data": {
      "text/plain": [
       "array([65, 78, 94, 66, 88, 80, 91])"
      ]
     },
     "execution_count": 3,
     "metadata": {},
     "output_type": "execute_result"
    }
   ],
   "source": [
    "marks = np.array([65,78,94,66,88,80,91])\n",
    "marks"
   ]
  },
  {
   "cell_type": "code",
   "execution_count": 4,
   "id": "2b888bd5-27bc-4394-bd2a-1563306fe172",
   "metadata": {},
   "outputs": [
    {
     "data": {
      "text/plain": [
       "80.28571428571429"
      ]
     },
     "execution_count": 4,
     "metadata": {},
     "output_type": "execute_result"
    }
   ],
   "source": [
    "mean = np.mean(marks)\n",
    "mean"
   ]
  },
  {
   "cell_type": "code",
   "execution_count": 6,
   "id": "8cdf2516-813f-4833-85c9-e0e0d96aafe1",
   "metadata": {},
   "outputs": [
    {
     "data": {
      "text/plain": [
       "80.28571428571429"
      ]
     },
     "execution_count": 6,
     "metadata": {},
     "output_type": "execute_result"
    }
   ],
   "source": [
    "alternate_mean = sum(marks)/len(marks)\n",
    "alternate_mean"
   ]
  },
  {
   "cell_type": "code",
   "execution_count": 7,
   "id": "645f2d47-8f3a-4c8c-8606-aa6c2492dd93",
   "metadata": {},
   "outputs": [
    {
     "data": {
      "text/plain": [
       "80.0"
      ]
     },
     "execution_count": 7,
     "metadata": {},
     "output_type": "execute_result"
    }
   ],
   "source": [
    "median = np.median(marks)\n",
    "median"
   ]
  },
  {
   "cell_type": "code",
   "execution_count": 10,
   "id": "a1e44956-e9a1-49f0-87c1-79b3494f84d2",
   "metadata": {},
   "outputs": [
    {
     "data": {
      "text/plain": [
       "80"
      ]
     },
     "execution_count": 10,
     "metadata": {},
     "output_type": "execute_result"
    }
   ],
   "source": [
    "sorted_marks = np.array(marks)\n",
    "sorted_marks.sort()\n",
    "alternate_median = sorted_marks[len(sorted_marks)//2]\n",
    "alternate_median"
   ]
  },
  {
   "cell_type": "markdown",
   "id": "6446d066-99dd-4a3e-a4e8-ac8f62eb2850",
   "metadata": {},
   "source": [
    "## Variance"
   ]
  },
  {
   "cell_type": "code",
   "execution_count": 11,
   "id": "67c5a9cd-5034-4ffc-ad1e-39ae6c81b8ce",
   "metadata": {},
   "outputs": [
    {
     "data": {
      "text/plain": [
       "115.06122448979592"
      ]
     },
     "execution_count": 11,
     "metadata": {},
     "output_type": "execute_result"
    }
   ],
   "source": [
    "variance = np.var(marks)\n",
    "variance"
   ]
  },
  {
   "cell_type": "code",
   "execution_count": 13,
   "id": "dfaf8b64-9c7d-4384-9e76-77967b4832cb",
   "metadata": {},
   "outputs": [
    {
     "data": {
      "text/plain": [
       "115.06122448979592"
      ]
     },
     "execution_count": 13,
     "metadata": {},
     "output_type": "execute_result"
    }
   ],
   "source": [
    "sum = 0\n",
    "for i in marks:\n",
    "    sum += (i - marks.sum()/len(marks)) ** 2\n",
    "\n",
    "alternative_variance = sum/len(marks)\n",
    "alternative_variance"
   ]
  },
  {
   "cell_type": "code",
   "execution_count": 14,
   "id": "418b336c-1ee8-407e-a51b-de3b7b224a64",
   "metadata": {},
   "outputs": [
    {
     "data": {
      "text/plain": [
       "10.726659521481789"
      ]
     },
     "execution_count": 14,
     "metadata": {},
     "output_type": "execute_result"
    }
   ],
   "source": [
    "# Standard Deviation ..\n",
    "\n",
    "std_deviation = np.std(marks)\n",
    "std_deviation"
   ]
  },
  {
   "cell_type": "code",
   "execution_count": 16,
   "id": "73c592fb-9c52-4abc-b154-ed8a1b113700",
   "metadata": {},
   "outputs": [
    {
     "data": {
      "text/plain": [
       "10.726659521481789"
      ]
     },
     "execution_count": 16,
     "metadata": {},
     "output_type": "execute_result"
    }
   ],
   "source": [
    "alternate_std_deviation = np.sqrt(alternative_variance)\n",
    "alternate_std_deviation"
   ]
  },
  {
   "cell_type": "markdown",
   "id": "68d3b8c3-6eb1-441d-b9e6-a7397c618cd4",
   "metadata": {},
   "source": [
    "## What is Lispace?\n",
    "Linspace divides a sequence evenly between start and end based on the step[ value."
   ]
  },
  {
   "cell_type": "code",
   "execution_count": 18,
   "id": "234f2371-42c1-4a2a-b376-11321d21e350",
   "metadata": {},
   "outputs": [
    {
     "data": {
      "text/plain": [
       "array([  0.,  25.,  50.,  75., 100.])"
      ]
     },
     "execution_count": 18,
     "metadata": {},
     "output_type": "execute_result"
    }
   ],
   "source": [
    "distribution = np.linspace(0, 100, 5)\n",
    "distribution"
   ]
  },
  {
   "cell_type": "code",
   "execution_count": 19,
   "id": "83de96cd-6cd4-4c98-bcda-fc9596ec15ea",
   "metadata": {},
   "outputs": [
    {
     "data": {
      "text/plain": [
       "array([  0., 100.])"
      ]
     },
     "execution_count": 19,
     "metadata": {},
     "output_type": "execute_result"
    }
   ],
   "source": [
    "distribution = np.linspace(0, 100, 2)\n",
    "distribution"
   ]
  },
  {
   "cell_type": "markdown",
   "id": "d9b69d7d-a68e-4a75-b583-51ce706d2d7f",
   "metadata": {},
   "source": [
    "# Sum of Array (Vertical & Horizontal)"
   ]
  },
  {
   "cell_type": "code",
   "execution_count": 20,
   "id": "7cb2ea6d-2163-43ca-bab4-13990ccd96cf",
   "metadata": {},
   "outputs": [],
   "source": [
    "ar = np.array([[1,1,1],[2,2,2],[3,3,3],[4,4,4]])"
   ]
  },
  {
   "cell_type": "code",
   "execution_count": 21,
   "id": "835d7237-f234-4467-af86-951d7b729ed6",
   "metadata": {},
   "outputs": [
    {
     "data": {
      "text/plain": [
       "array([[1, 1, 1],\n",
       "       [2, 2, 2],\n",
       "       [3, 3, 3],\n",
       "       [4, 4, 4]])"
      ]
     },
     "execution_count": 21,
     "metadata": {},
     "output_type": "execute_result"
    }
   ],
   "source": [
    "ar"
   ]
  },
  {
   "cell_type": "code",
   "execution_count": 22,
   "id": "671ff571-48f5-4d72-9a04-7ecc1873e4df",
   "metadata": {},
   "outputs": [
    {
     "data": {
      "text/plain": [
       "30"
      ]
     },
     "execution_count": 22,
     "metadata": {},
     "output_type": "execute_result"
    }
   ],
   "source": [
    "# To calculate entire SUM ..\n",
    "\n",
    "ar.sum()"
   ]
  },
  {
   "cell_type": "code",
   "execution_count": 23,
   "id": "41ae746b-7ca3-413a-b307-87a6be18d3b0",
   "metadata": {},
   "outputs": [
    {
     "data": {
      "text/plain": [
       "array([10, 10, 10])"
      ]
     },
     "execution_count": 23,
     "metadata": {},
     "output_type": "execute_result"
    }
   ],
   "source": [
    "# To calculate SUM downwards ..\n",
    "\n",
    "ar.sum(axis = 0)"
   ]
  },
  {
   "cell_type": "code",
   "execution_count": 24,
   "id": "6a4b1785-81b9-4ca0-ac3f-728320887d97",
   "metadata": {},
   "outputs": [
    {
     "data": {
      "text/plain": [
       "array([ 3,  6,  9, 12])"
      ]
     },
     "execution_count": 24,
     "metadata": {},
     "output_type": "execute_result"
    }
   ],
   "source": [
    "# To calculate SUM sidewards ..\n",
    "\n",
    "ar.sum(axis = 1)"
   ]
  },
  {
   "cell_type": "markdown",
   "id": "6e376b6a-571a-4729-8120-cf2d7b69ec05",
   "metadata": {},
   "source": [
    "## Matrix Multiplication & Dot Product"
   ]
  },
  {
   "cell_type": "code",
   "execution_count": 25,
   "id": "06054d3b-eb4c-4632-8727-32dea99bbbdf",
   "metadata": {},
   "outputs": [],
   "source": [
    "x = np.random.rand(2,3) #mxn = 2x3\n",
    "y = np.random.rand(3,1) #mxn = 3x1"
   ]
  },
  {
   "cell_type": "code",
   "execution_count": 26,
   "id": "3b88c24f-7dbe-474f-8580-dd4844af365b",
   "metadata": {},
   "outputs": [
    {
     "data": {
      "text/plain": [
       "array([[0.72817135, 0.31602727, 0.34484097],\n",
       "       [0.24516345, 0.64462497, 0.01931146]])"
      ]
     },
     "execution_count": 26,
     "metadata": {},
     "output_type": "execute_result"
    }
   ],
   "source": [
    "x"
   ]
  },
  {
   "cell_type": "code",
   "execution_count": 27,
   "id": "bdf08392-b8f2-4479-bac7-739bbd8be257",
   "metadata": {},
   "outputs": [
    {
     "data": {
      "text/plain": [
       "array([[0.800346  ],\n",
       "       [0.85561523],\n",
       "       [0.27760361]])"
      ]
     },
     "execution_count": 27,
     "metadata": {},
     "output_type": "execute_result"
    }
   ],
   "source": [
    "y"
   ]
  },
  {
   "cell_type": "code",
   "execution_count": 29,
   "id": "3b34831c-3058-4e64-a46a-dbb67ce779e8",
   "metadata": {},
   "outputs": [
    {
     "data": {
      "text/plain": [
       "array([[0.94891587],\n",
       "       [0.75312747]])"
      ]
     },
     "execution_count": 29,
     "metadata": {},
     "output_type": "execute_result"
    }
   ],
   "source": [
    "matrix_mul = np.matmul(x, y)\n",
    "matrix_mul"
   ]
  },
  {
   "cell_type": "code",
   "execution_count": 30,
   "id": "b7430c55-0b79-4de5-bf4c-d3296bf9989c",
   "metadata": {},
   "outputs": [
    {
     "data": {
      "text/plain": [
       "(2, 1)"
      ]
     },
     "execution_count": 30,
     "metadata": {},
     "output_type": "execute_result"
    }
   ],
   "source": [
    "matrix_mul.shape"
   ]
  },
  {
   "cell_type": "code",
   "execution_count": 31,
   "id": "db2b6d7b-0635-4a31-b44d-086e4e704190",
   "metadata": {},
   "outputs": [
    {
     "data": {
      "text/plain": [
       "array([[0.94891587],\n",
       "       [0.75312747]])"
      ]
     },
     "execution_count": 31,
     "metadata": {},
     "output_type": "execute_result"
    }
   ],
   "source": [
    "dot_product = np.dot(x, y)\n",
    "dot_product"
   ]
  },
  {
   "cell_type": "markdown",
   "id": "3d335333-1a93-4c3f-8fb3-6aa9583acae8",
   "metadata": {},
   "source": [
    "## Exponential & Logarithms"
   ]
  },
  {
   "cell_type": "code",
   "execution_count": null,
   "id": "3e587829-23f6-4c47-8931-3dcdea6ff2a2",
   "metadata": {},
   "outputs": [],
   "source": []
  }
 ],
 "metadata": {
  "kernelspec": {
   "display_name": "Python 3 (ipykernel)",
   "language": "python",
   "name": "python3"
  },
  "language_info": {
   "codemirror_mode": {
    "name": "ipython",
    "version": 3
   },
   "file_extension": ".py",
   "mimetype": "text/x-python",
   "name": "python",
   "nbconvert_exporter": "python",
   "pygments_lexer": "ipython3",
   "version": "3.12.7"
  }
 },
 "nbformat": 4,
 "nbformat_minor": 5
}
