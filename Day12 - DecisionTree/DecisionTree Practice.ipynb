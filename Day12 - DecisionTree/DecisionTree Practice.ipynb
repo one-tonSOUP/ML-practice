{
 "cells": [
  {
   "cell_type": "markdown",
   "id": "ac265713-db3a-43cc-9e6a-5e6202786374",
   "metadata": {},
   "source": [
    "# Implementation of Decision Tree"
   ]
  }
 ],
 "metadata": {
  "kernelspec": {
   "display_name": "Python 3 (ipykernel)",
   "language": "python",
   "name": "python3"
  },
  "language_info": {
   "codemirror_mode": {
    "name": "ipython",
    "version": 3
   },
   "file_extension": ".py",
   "mimetype": "text/x-python",
   "name": "python",
   "nbconvert_exporter": "python",
   "pygments_lexer": "ipython3",
   "version": "3.12.7"
  }
 },
 "nbformat": 4,
 "nbformat_minor": 5
}
